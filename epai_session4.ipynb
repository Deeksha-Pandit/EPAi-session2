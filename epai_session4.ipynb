{
  "nbformat": 4,
  "nbformat_minor": 0,
  "metadata": {
    "colab": {
      "name": "epai-session4.ipynb",
      "provenance": [],
      "authorship_tag": "ABX9TyMA88+j+wVOSgixb1RVuBfY",
      "include_colab_link": true
    },
    "kernelspec": {
      "name": "python3",
      "display_name": "Python 3"
    }
  },
  "cells": [
    {
      "cell_type": "markdown",
      "metadata": {
        "id": "view-in-github",
        "colab_type": "text"
      },
      "source": [
        "<a href=\"https://colab.research.google.com/github/Deeksha-Pandit/EPAi-session2/blob/main/epai_session4.ipynb\" target=\"_parent\"><img src=\"https://colab.research.google.com/assets/colab-badge.svg\" alt=\"Open In Colab\"/></a>"
      ]
    },
    {
      "cell_type": "code",
      "metadata": {
        "id": "f9ni_M4pMLDV"
      },
      "source": [
        "import math\r\n",
        "import random\r\n",
        "import decimal\r\n",
        "from decimal import Decimal"
      ],
      "execution_count": 54,
      "outputs": []
    },
    {
      "cell_type": "code",
      "metadata": {
        "id": "OS4N1ECLOH6e"
      },
      "source": [
        "class Qualean:\r\n",
        "  def __init__(self,n):\r\n",
        "    self.res = 0\r\n",
        "    n = n * Decimal(random.uniform(-1,1))\r\n",
        "    self.res = round(n,10)\r\n",
        "\r\n",
        "  def __add__(self,b):\r\n",
        "    return self.res+b\r\n",
        "\r\n",
        "  def __mul__(self,n):\r\n",
        "    return self.res*n\r\n",
        "\r\n",
        "  def __and__(self,f):\r\n",
        "    return self.res and f\r\n",
        "\r\n",
        "  def __or__():\r\n",
        "    return self.res or f\r\n",
        "\r\n",
        "  def __repr__(self):\r\n",
        "    return '{0}'.format(self.res)\r\n",
        "\r\n",
        "  def __str__(self):\r\n",
        "     return '{0}'.format(self.res)\r\n",
        "\r\n",
        "  def __eq__(self,num):\r\n",
        "    return self.res == num\r\n",
        "\r\n",
        "  def __float__(self):\r\n",
        "    return float(self.res)\r\n",
        "\r\n",
        "  def __ge__(self, num):\r\n",
        "    return num >= self.res\r\n",
        "\r\n",
        "  def __le__(self, num):\r\n",
        "    return self.res <= num\r\n",
        "\r\n",
        "  def __lt__(self, num):\r\n",
        "    return self.res < num\r\n",
        "\r\n",
        "  def __gt__(self, num):\r\n",
        "    return num > self.res\r\n",
        "\r\n",
        "  def __invertsign__(self):\r\n",
        "    return -self.res\r\n",
        "\r\n",
        "  def __bool__(self):\r\n",
        "    if self.res == 0:\r\n",
        "      return False\r\n",
        "    return True\r\n",
        "    \r\n",
        "  def __sqrt__(self):\r\n",
        "    #if self.res < 0:\r\n",
        "        #self.res = abs(self.res)\r\n",
        "        #self.res = self.res.__invertsign__()\r\n",
        "        #return 'i' + str(self.res.sqrt())\r\n",
        "    return self.res.sqrt()"
      ],
      "execution_count": 199,
      "outputs": []
    },
    {
      "cell_type": "code",
      "metadata": {
        "id": "WfMA0NVgPIHr"
      },
      "source": [
        "README_CONTENT_CHECK_FOR = [\r\n",
        "'__and__',\r\n",
        "'__or__',\r\n",
        "'__repr__',\r\n",
        "'__str__',\r\n",
        "'__add__',\r\n",
        "'__eq__',\r\n",
        "'__float__',\r\n",
        "'__ge__',\r\n",
        "'__gt__',\r\n",
        "'__invert__',\r\n",
        "'__le__',\r\n",
        "'__lt__',\r\n",
        "'__mul__',\r\n",
        "'__sqrt__',\r\n",
        "'__bool__'\r\n",
        "]"
      ],
      "execution_count": null,
      "outputs": []
    },
    {
      "cell_type": "code",
      "metadata": {
        "id": "N9MuHop8M0qv"
      },
      "source": [
        "def generate_qualean():\r\n",
        "  real_num = random.choice([1,0,-1])\r\n",
        "  Qualean(real_num)\r\n",
        "generate_qualean()"
      ],
      "execution_count": 82,
      "outputs": []
    },
    {
      "cell_type": "code",
      "metadata": {
        "id": "7iiFlJK1mc31"
      },
      "source": [
        "def test_add():\r\n",
        "  q = Qualean (1)\r\n",
        "  number = random.randint(0,100) \r\n",
        "  assert q.__add__(number) == q + number , f\"wrong addition\"\r\n",
        "test_add()"
      ],
      "execution_count": 102,
      "outputs": []
    },
    {
      "cell_type": "code",
      "metadata": {
        "id": "0ZzWcdIp8ctV"
      },
      "source": [
        "def test_add_qualean():\r\n",
        "    q = Qualean (1)\r\n",
        "    add1 = 0\r\n",
        "    for i in range (100):\r\n",
        "        add1 = q + add1\r\n",
        "    assert add1 == q*100, \"Wrong addition q + q + q ... 100 times = 100 * q\"\r\n",
        "test_add_qualean()"
      ],
      "execution_count": 101,
      "outputs": []
    },
    {
      "cell_type": "code",
      "metadata": {
        "id": "_Pw-SFyGmodL"
      },
      "source": [
        "def test_mul():\r\n",
        "  q = Qualean (1)\r\n",
        "  number = random.randint(0,100) \r\n",
        "  assert q.__mul__(number) == q * number , f\"wrong multiplication\"\r\n",
        "test_mul()"
      ],
      "execution_count": 103,
      "outputs": []
    },
    {
      "cell_type": "code",
      "metadata": {
        "id": "LGERtXVqm-0c"
      },
      "source": [
        "def test_for_and_false():\r\n",
        "  q1 = Qualean (0)\r\n",
        "  q2 = 0\r\n",
        "  assert bool(q1).__and__(bool(q2)) == False, f\"and operation does not work\"\r\n",
        "test_for_and()"
      ],
      "execution_count": 128,
      "outputs": []
    },
    {
      "cell_type": "code",
      "metadata": {
        "id": "0eCteSL0oTXZ"
      },
      "source": [
        "def test_for_and_true():\r\n",
        "  q1 = Qualean (1)\r\n",
        "  q2 = -1\r\n",
        "  assert bool(q1).__and__(bool(q2)) == True, f\"and operation does not work\"\r\n",
        "test_for_and_true()"
      ],
      "execution_count": 119,
      "outputs": []
    },
    {
      "cell_type": "code",
      "metadata": {
        "id": "IDD5lAPVpV3s"
      },
      "source": [
        "def test_for_or_true():\r\n",
        "  q1 = Qualean (0)\r\n",
        "  q2 = 1\r\n",
        "  assert bool(q1).__or__(bool(q2)) == True, f\"or operation does not work\"\r\n",
        "test_for_or_true()"
      ],
      "execution_count": 125,
      "outputs": []
    },
    {
      "cell_type": "code",
      "metadata": {
        "id": "ETEYZbHIp7jc"
      },
      "source": [
        "def test_for_or_false():\r\n",
        "  q5 = Qualean (0)\r\n",
        "  q6 = 0\r\n",
        "  assert bool(q6).__or__(bool(q5)) == False, f\"or operation does not work\"\r\n",
        "test_for_or_false()"
      ],
      "execution_count": 218,
      "outputs": []
    },
    {
      "cell_type": "code",
      "metadata": {
        "id": "atf7ZfCYr4A5"
      },
      "source": [
        "def test_repr():\r\n",
        "  q = Qualean (1)\r\n",
        "  assert q.__repr__() == f'{q}', \"__repr__ does not work for you :(\"\r\n",
        "test_repr()"
      ],
      "execution_count": 151,
      "outputs": []
    },
    {
      "cell_type": "code",
      "metadata": {
        "id": "VWWegqc0rONw"
      },
      "source": [
        "def test_str():\r\n",
        "  q = Qualean (1)\r\n",
        "  assert q.__str__() == f'{q}', \"__str__ does not work for you :(\"\r\n",
        "test_str()"
      ],
      "execution_count": 153,
      "outputs": []
    },
    {
      "cell_type": "code",
      "metadata": {
        "id": "dEXM0UZ4rOKY"
      },
      "source": [
        "def test_eq():\r\n",
        "  q = Qualean (1)\r\n",
        "  assert q == q, \"The equals constructor does not work at all\"\r\n",
        "test_eq()"
      ],
      "execution_count": 161,
      "outputs": []
    },
    {
      "cell_type": "code",
      "metadata": {
        "id": "UUOLqIP1rOHn"
      },
      "source": [
        "def test_float():\r\n",
        "  q = Qualean (1)\r\n",
        "  type_conv = float(q)\r\n",
        "  assert type(q.__float__()) == float, \"No able to convert to float\"\r\n",
        "test_float()"
      ],
      "execution_count": 164,
      "outputs": []
    },
    {
      "cell_type": "code",
      "metadata": {
        "id": "3s6l4nHYrOFI"
      },
      "source": [
        "def test_ge():\r\n",
        "  q = Qualean (1)\r\n",
        "  num = Qualean (5)\r\n",
        "  assert q.__ge__(num) == True, \"greater than operation not working\"\r\n",
        "test_ge()"
      ],
      "execution_count": 179,
      "outputs": []
    },
    {
      "cell_type": "code",
      "metadata": {
        "id": "0Hjx9PCL2MQV"
      },
      "source": [
        "def test_le():\r\n",
        "  q = Qualean (1)\r\n",
        "  num = Qualean (5)\r\n",
        "  assert q.__le__(num) == True, \"lesser than equal operation not working\"\r\n",
        "test_le()"
      ],
      "execution_count": 188,
      "outputs": []
    },
    {
      "cell_type": "code",
      "metadata": {
        "id": "JOJpli6Y2MNC"
      },
      "source": [
        "def test_lt():\r\n",
        "  q = Qualean (1)\r\n",
        "  num = Qualean (5)\r\n",
        "  assert q.__lt__(num) == True, \"lesser than operation not working\"\r\n",
        "test_lt()"
      ],
      "execution_count": 189,
      "outputs": []
    },
    {
      "cell_type": "code",
      "metadata": {
        "id": "kphsJ4wI2MK4"
      },
      "source": [
        "def test_gt():\r\n",
        "  q = Qualean (1)\r\n",
        "  num = Qualean (5)\r\n",
        "  assert q.__gt__(num) == True, \"greater than operation not working\"\r\n",
        "test_gt()"
      ],
      "execution_count": 186,
      "outputs": []
    },
    {
      "cell_type": "code",
      "metadata": {
        "id": "6ChSvhIe2MIf",
        "outputId": "1796cc6b-912f-490d-b3a2-cc532a083c28",
        "colab": {
          "base_uri": "https://localhost:8080/",
          "height": 310
        }
      },
      "source": [
        "def test_invertsign():\r\n",
        "  q = Qualean (1)\r\n",
        "  assert q.__invertsign__() == , \"You cannot invert the sign of a number this way!\"\r\n",
        "test_invertsign()"
      ],
      "execution_count": 196,
      "outputs": [
        {
          "output_type": "error",
          "ename": "TypeError",
          "evalue": "ignored",
          "traceback": [
            "\u001b[0;31m---------------------------------------------------------------------------\u001b[0m",
            "\u001b[0;31mTypeError\u001b[0m                                 Traceback (most recent call last)",
            "\u001b[0;32m<ipython-input-196-65c8c46c4757>\u001b[0m in \u001b[0;36m<module>\u001b[0;34m()\u001b[0m\n\u001b[1;32m      2\u001b[0m   \u001b[0mq\u001b[0m \u001b[0;34m=\u001b[0m \u001b[0mQualean\u001b[0m \u001b[0;34m(\u001b[0m\u001b[0;36m1\u001b[0m\u001b[0;34m)\u001b[0m\u001b[0;34m\u001b[0m\u001b[0;34m\u001b[0m\u001b[0m\n\u001b[1;32m      3\u001b[0m   \u001b[0;32massert\u001b[0m \u001b[0mq\u001b[0m\u001b[0;34m.\u001b[0m\u001b[0m__invertsign__\u001b[0m\u001b[0;34m(\u001b[0m\u001b[0;34m)\u001b[0m \u001b[0;34m==\u001b[0m \u001b[0mDecimal\u001b[0m\u001b[0;34m(\u001b[0m\u001b[0;34m-\u001b[0m\u001b[0mq\u001b[0m\u001b[0;34m)\u001b[0m\u001b[0;34m,\u001b[0m \u001b[0;34m\"You cannot invert the sign of a number this way!\"\u001b[0m\u001b[0;34m\u001b[0m\u001b[0;34m\u001b[0m\u001b[0m\n\u001b[0;32m----> 4\u001b[0;31m \u001b[0mtest_invertsign\u001b[0m\u001b[0;34m(\u001b[0m\u001b[0;34m)\u001b[0m\u001b[0;34m\u001b[0m\u001b[0;34m\u001b[0m\u001b[0m\n\u001b[0m",
            "\u001b[0;32m<ipython-input-196-65c8c46c4757>\u001b[0m in \u001b[0;36mtest_invertsign\u001b[0;34m()\u001b[0m\n\u001b[1;32m      1\u001b[0m \u001b[0;32mdef\u001b[0m \u001b[0mtest_invertsign\u001b[0m\u001b[0;34m(\u001b[0m\u001b[0;34m)\u001b[0m\u001b[0;34m:\u001b[0m\u001b[0;34m\u001b[0m\u001b[0;34m\u001b[0m\u001b[0m\n\u001b[1;32m      2\u001b[0m   \u001b[0mq\u001b[0m \u001b[0;34m=\u001b[0m \u001b[0mQualean\u001b[0m \u001b[0;34m(\u001b[0m\u001b[0;36m1\u001b[0m\u001b[0;34m)\u001b[0m\u001b[0;34m\u001b[0m\u001b[0;34m\u001b[0m\u001b[0m\n\u001b[0;32m----> 3\u001b[0;31m   \u001b[0;32massert\u001b[0m \u001b[0mq\u001b[0m\u001b[0;34m.\u001b[0m\u001b[0m__invertsign__\u001b[0m\u001b[0;34m(\u001b[0m\u001b[0;34m)\u001b[0m \u001b[0;34m==\u001b[0m \u001b[0mDecimal\u001b[0m\u001b[0;34m(\u001b[0m\u001b[0;34m-\u001b[0m\u001b[0mq\u001b[0m\u001b[0;34m)\u001b[0m\u001b[0;34m,\u001b[0m \u001b[0;34m\"You cannot invert the sign of a number this way!\"\u001b[0m\u001b[0;34m\u001b[0m\u001b[0;34m\u001b[0m\u001b[0m\n\u001b[0m\u001b[1;32m      4\u001b[0m \u001b[0mtest_invertsign\u001b[0m\u001b[0;34m(\u001b[0m\u001b[0;34m)\u001b[0m\u001b[0;34m\u001b[0m\u001b[0;34m\u001b[0m\u001b[0m\n",
            "\u001b[0;31mTypeError\u001b[0m: bad operand type for unary -: 'Qualean'"
          ]
        }
      ]
    },
    {
      "cell_type": "code",
      "metadata": {
        "id": "A59uABlQ2MF7"
      },
      "source": [
        "def test_bool_true():\r\n",
        "  q = Qualean (1)\r\n",
        "  assert q.__bool__() == True, \"The boolean function gives wrong output\"\r\n",
        "test_bool_true()"
      ],
      "execution_count": 202,
      "outputs": []
    },
    {
      "cell_type": "code",
      "metadata": {
        "id": "-BaLYt8D64M7"
      },
      "source": [
        "def test_bool_false():\r\n",
        "  q = Qualean (0)\r\n",
        "  assert q.__bool__() == False, \"The boolean function gives wrong output\"\r\n",
        "test_bool_false()"
      ],
      "execution_count": 203,
      "outputs": []
    },
    {
      "cell_type": "code",
      "metadata": {
        "id": "4kq-JZcB7DEf"
      },
      "source": [
        "def test_q_close_to_zero_add():\r\n",
        "  res = 0\r\n",
        "  for i in range(1000000):\r\n",
        "    res = Qualean(random.randint(-1,1)) + res\r\n",
        "  assert math.isclose(res,0, rel_tol=1) == True, \"Number not close to zero\"\r\n",
        "test_q_close_to_zero_add()"
      ],
      "execution_count": 216,
      "outputs": []
    },
    {
      "cell_type": "code",
      "metadata": {
        "id": "YUae_XQt93LG"
      },
      "source": [
        "def test_q_close_to_zero_mul():\r\n",
        "  res = 1\r\n",
        "  for i in range(1000000):\r\n",
        "    res = Qualean(random.randint(-1,1)) * res\r\n",
        "  assert math.isclose(res,0, rel_tol=1) == True, \"Number not close to zero\"\r\n",
        "test_q_close_to_zero_mul()"
      ],
      "execution_count": 217,
      "outputs": []
    },
    {
      "cell_type": "code",
      "metadata": {
        "colab": {
          "base_uri": "https://localhost:8080/",
          "height": 327
        },
        "id": "y53PhN6XEfbO",
        "outputId": "c02d281a-2818-4a30-8594-3fc1af82e41a"
      },
      "source": [
        "def test_sqrt():\r\n",
        "  q = Qualean(1)\r\n",
        "\r\n",
        "  \r\n",
        "  if float (q) < 0:\r\n",
        "        ~q\r\n",
        "  assert q.__sqrt__() == Decimal(str(q)).sqrt(), \"q.__sqrt__() = Decimal(q).sqrt\"\r\n",
        "test_sqrt()"
      ],
      "execution_count": 93,
      "outputs": [
        {
          "output_type": "error",
          "ename": "TypeError",
          "evalue": "ignored",
          "traceback": [
            "\u001b[0;31m---------------------------------------------------------------------------\u001b[0m",
            "\u001b[0;31mTypeError\u001b[0m                                 Traceback (most recent call last)",
            "\u001b[0;32m<ipython-input-93-017f5e03e913>\u001b[0m in \u001b[0;36m<module>\u001b[0;34m()\u001b[0m\n\u001b[1;32m      6\u001b[0m         \u001b[0;34m~\u001b[0m\u001b[0mq\u001b[0m\u001b[0;34m\u001b[0m\u001b[0;34m\u001b[0m\u001b[0m\n\u001b[1;32m      7\u001b[0m   \u001b[0;32massert\u001b[0m \u001b[0mq\u001b[0m\u001b[0;34m.\u001b[0m\u001b[0m__sqrt__\u001b[0m\u001b[0;34m(\u001b[0m\u001b[0;34m)\u001b[0m \u001b[0;34m==\u001b[0m \u001b[0mDecimal\u001b[0m\u001b[0;34m(\u001b[0m\u001b[0mstr\u001b[0m\u001b[0;34m(\u001b[0m\u001b[0mq\u001b[0m\u001b[0;34m)\u001b[0m\u001b[0;34m)\u001b[0m\u001b[0;34m.\u001b[0m\u001b[0msqrt\u001b[0m\u001b[0;34m(\u001b[0m\u001b[0;34m)\u001b[0m\u001b[0;34m,\u001b[0m \u001b[0;34m\"q.__sqrt__() = Decimal(q).sqrt\"\u001b[0m\u001b[0;34m\u001b[0m\u001b[0;34m\u001b[0m\u001b[0m\n\u001b[0;32m----> 8\u001b[0;31m \u001b[0mtest_sqrt\u001b[0m\u001b[0;34m(\u001b[0m\u001b[0;34m)\u001b[0m\u001b[0;34m\u001b[0m\u001b[0;34m\u001b[0m\u001b[0m\n\u001b[0m",
            "\u001b[0;32m<ipython-input-93-017f5e03e913>\u001b[0m in \u001b[0;36mtest_sqrt\u001b[0;34m()\u001b[0m\n\u001b[1;32m      3\u001b[0m \u001b[0;34m\u001b[0m\u001b[0m\n\u001b[1;32m      4\u001b[0m \u001b[0;34m\u001b[0m\u001b[0m\n\u001b[0;32m----> 5\u001b[0;31m   \u001b[0;32mif\u001b[0m \u001b[0mfloat\u001b[0m \u001b[0;34m(\u001b[0m\u001b[0mq\u001b[0m\u001b[0;34m)\u001b[0m \u001b[0;34m<\u001b[0m \u001b[0;36m0\u001b[0m\u001b[0;34m:\u001b[0m\u001b[0;34m\u001b[0m\u001b[0;34m\u001b[0m\u001b[0m\n\u001b[0m\u001b[1;32m      6\u001b[0m         \u001b[0;34m~\u001b[0m\u001b[0mq\u001b[0m\u001b[0;34m\u001b[0m\u001b[0;34m\u001b[0m\u001b[0m\n\u001b[1;32m      7\u001b[0m   \u001b[0;32massert\u001b[0m \u001b[0mq\u001b[0m\u001b[0;34m.\u001b[0m\u001b[0m__sqrt__\u001b[0m\u001b[0;34m(\u001b[0m\u001b[0;34m)\u001b[0m \u001b[0;34m==\u001b[0m \u001b[0mDecimal\u001b[0m\u001b[0;34m(\u001b[0m\u001b[0mstr\u001b[0m\u001b[0;34m(\u001b[0m\u001b[0mq\u001b[0m\u001b[0;34m)\u001b[0m\u001b[0;34m)\u001b[0m\u001b[0;34m.\u001b[0m\u001b[0msqrt\u001b[0m\u001b[0;34m(\u001b[0m\u001b[0;34m)\u001b[0m\u001b[0;34m,\u001b[0m \u001b[0;34m\"q.__sqrt__() = Decimal(q).sqrt\"\u001b[0m\u001b[0;34m\u001b[0m\u001b[0;34m\u001b[0m\u001b[0m\n",
            "\u001b[0;31mTypeError\u001b[0m: float() argument must be a string or a number, not 'Qualean'"
          ]
        }
      ]
    },
    {
      "cell_type": "code",
      "metadata": {
        "id": "yyi55ajNWg7p"
      },
      "source": [
        ""
      ],
      "execution_count": null,
      "outputs": []
    },
    {
      "cell_type": "code",
      "metadata": {
        "id": "wdpk1YLhWg4J"
      },
      "source": [
        ""
      ],
      "execution_count": null,
      "outputs": []
    },
    {
      "cell_type": "code",
      "metadata": {
        "id": "FvLyF36OWg1b"
      },
      "source": [
        ""
      ],
      "execution_count": null,
      "outputs": []
    },
    {
      "cell_type": "code",
      "metadata": {
        "id": "sZhL1x2_Wgyq"
      },
      "source": [
        ""
      ],
      "execution_count": null,
      "outputs": []
    },
    {
      "cell_type": "code",
      "metadata": {
        "id": "zeEYCRLrWgv7"
      },
      "source": [
        ""
      ],
      "execution_count": null,
      "outputs": []
    },
    {
      "cell_type": "code",
      "metadata": {
        "id": "jT91r3-0WgtP"
      },
      "source": [
        ""
      ],
      "execution_count": null,
      "outputs": []
    }
  ]
}