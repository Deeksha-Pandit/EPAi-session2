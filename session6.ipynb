{
  "nbformat": 4,
  "nbformat_minor": 0,
  "metadata": {
    "colab": {
      "name": "Untitled41.ipynb",
      "provenance": [],
      "authorship_tag": "ABX9TyMpGjh/9580x3nbndfJh/FI",
      "include_colab_link": true
    },
    "kernelspec": {
      "name": "python3",
      "display_name": "Python 3"
    }
  },
  "cells": [
    {
      "cell_type": "markdown",
      "metadata": {
        "id": "view-in-github",
        "colab_type": "text"
      },
      "source": [
        "<a href=\"https://colab.research.google.com/github/Deeksha-Pandit/EPAi-session2/blob/main/session6.ipynb\" target=\"_parent\"><img src=\"https://colab.research.google.com/assets/colab-badge.svg\" alt=\"Open In Colab\"/></a>"
      ]
    },
    {
      "cell_type": "code",
      "metadata": {
        "id": "bX1_f76yDIJ2"
      },
      "source": [
        "vals = ['2', '3', '4', '5', '6', '7', '8', '9', '10', 'jack', 'queen', 'king', 'ace']\r\n",
        "suits = ['spades', 'clubs', 'hearts', 'diamonds']"
      ],
      "execution_count": 1,
      "outputs": []
    },
    {
      "cell_type": "code",
      "metadata": {
        "colab": {
          "base_uri": "https://localhost:8080/"
        },
        "id": "6WQrGh0CLX5p",
        "outputId": "2e7ca2b3-8c6b-4cd5-bd2e-4be4812fda95"
      },
      "source": [
        "print(list(zip(vals,suits)))"
      ],
      "execution_count": 2,
      "outputs": [
        {
          "output_type": "stream",
          "text": [
            "[('2', 'spades'), ('3', 'clubs'), ('4', 'hearts'), ('5', 'diamonds')]\n"
          ],
          "name": "stdout"
        }
      ]
    },
    {
      "cell_type": "code",
      "metadata": {
        "colab": {
          "base_uri": "https://localhost:8080/"
        },
        "id": "LrQeX4v0MAgi",
        "outputId": "354ad13c-63dc-4191-ddc5-c68d2da5f024"
      },
      "source": [
        "print(list(zip(suits,vals)))"
      ],
      "execution_count": 3,
      "outputs": [
        {
          "output_type": "stream",
          "text": [
            "[('spades', '2'), ('clubs', '3'), ('hearts', '4'), ('diamonds', '5')]\n"
          ],
          "name": "stdout"
        }
      ]
    },
    {
      "cell_type": "code",
      "metadata": {
        "colab": {
          "base_uri": "https://localhost:8080/"
        },
        "id": "J6s9MtkbEsgg",
        "outputId": "6c8b6400-6b14-48fd-9270-a5beb2ccc67e"
      },
      "source": [
        "print(list(map(lambda x,y: zip(x,y), vals,suits)))"
      ],
      "execution_count": 4,
      "outputs": [
        {
          "output_type": "stream",
          "text": [
            "[<zip object at 0x7fdae5747588>, <zip object at 0x7fdae57475c8>, <zip object at 0x7fdae5747608>, <zip object at 0x7fdae5747648>]\n"
          ],
          "name": "stdout"
        }
      ]
    },
    {
      "cell_type": "code",
      "metadata": {
        "id": "PNhdWtrkdsQb"
      },
      "source": [
        "import inspect\r\n",
        "import pytest"
      ],
      "execution_count": 5,
      "outputs": []
    },
    {
      "cell_type": "code",
      "metadata": {
        "id": "X1IdSawufzIm"
      },
      "source": [
        "deck = [('2', 'spades'),('2', 'clubs'),('2', 'hearts'),('2', 'diamonds'),('3', 'spades'),('3', 'clubs'),('3', 'hearts'),('3', 'diamonds'),('4', 'spades'),('4', 'clubs'),('4', 'hearts'),('4', 'diamonds'),('5', 'spades'),\r\n",
        " ('5', 'clubs'),\r\n",
        " ('5', 'hearts'),\r\n",
        " ('5', 'diamonds'),\r\n",
        " ('6', 'spades'),\r\n",
        " ('6', 'clubs'),\r\n",
        " ('6', 'hearts'),\r\n",
        " ('6', 'diamonds'),\r\n",
        " ('7', 'spades'),\r\n",
        " ('7', 'clubs'),\r\n",
        " ('7', 'hearts'),\r\n",
        " ('7', 'diamonds'),\r\n",
        " ('8', 'spades'),\r\n",
        " ('8', 'clubs'),\r\n",
        " ('8', 'hearts'),\r\n",
        " ('8', 'diamonds'),\r\n",
        " ('9', 'spades'),\r\n",
        " ('9', 'clubs'),\r\n",
        " ('9', 'hearts'),\r\n",
        " ('9', 'diamonds'),\r\n",
        " ('10', 'spades'),\r\n",
        " ('10', 'clubs'),\r\n",
        " ('10', 'hearts'),\r\n",
        " ('10', 'diamonds'),\r\n",
        " ('jack', 'spades'),\r\n",
        " ('jack', 'clubs'),\r\n",
        " ('jack', 'hearts'),\r\n",
        " ('jack', 'diamonds'),\r\n",
        " ('queen', 'spades'),\r\n",
        " ('queen', 'clubs'),\r\n",
        " ('queen', 'hearts'),\r\n",
        " ('queen', 'diamonds'),\r\n",
        " ('king', 'spades'),\r\n",
        " ('king', 'clubs'),\r\n",
        " ('king', 'hearts'),\r\n",
        " ('king', 'diamonds'),\r\n",
        " ('ace', 'spades'),\r\n",
        " ('ace', 'clubs'),\r\n",
        " ('ace', 'hearts'),\r\n",
        " ('ace', 'diamonds')]"
      ],
      "execution_count": 6,
      "outputs": []
    },
    {
      "cell_type": "code",
      "metadata": {
        "id": "zuTmN7eRkrYu"
      },
      "source": [
        "def single_line_func():\r\n",
        "  '''\r\n",
        "    This function is to make 52 pairs of different combinations for a deck of cards.\r\n",
        "    This function uses lambda, map and zip python functions\r\n",
        "    The output is a list of 52 tuples with card combinations\r\n",
        "  '''\r\n",
        "  res=list(map(lambda x: list(zip([x]*13,suits)),vals))\r\n",
        "  return res\r\n",
        "\r\n",
        "def test_single_line_func_docstring():\r\n",
        "  assert single_line_func.__doc__, \"Sorry no docstring present!!!\"\r\n",
        "test_single_line_func_docstring()\r\n",
        "\r\n",
        "def test_single_line_func():\r\n",
        "  value = single_line_func()\r\n",
        "  for itr in deck:\r\n",
        "    if value not in itr:\r\n",
        "      assert \"Wrong values in deck\"\r\n",
        "test_single_line_func()"
      ],
      "execution_count": 7,
      "outputs": []
    },
    {
      "cell_type": "code",
      "metadata": {
        "id": "24ZdiY8ZlY4_"
      },
      "source": [
        "def multi_line_func():\r\n",
        "  '''\r\n",
        "  This function is to make 52 pairs of different combinations for a deck of cards.\r\n",
        "  This function does not use lambda, map and zip python functions\r\n",
        "  The output is a list of 52 tuples with card combinations\r\n",
        "  '''\r\n",
        "  l1 =[]\r\n",
        "  for i in vals:\r\n",
        "    for j in suits:\r\n",
        "      l1.append((i,j))\r\n",
        "  return l1\r\n",
        "\r\n",
        "def test_multi_line_func_docstring():\r\n",
        "  assert multi_line_func.__doc__, \"Sorry no docstring present!!!\"\r\n",
        "test_multi_line_func_docstring()\r\n",
        "\r\n",
        "def test_multi_line_func():\r\n",
        "  value = multi_line_func()\r\n",
        "  for itr in deck:\r\n",
        "    if value not in itr:\r\n",
        "      assert \"Wrong values in deck\"\r\n",
        "test_multi_line_func()"
      ],
      "execution_count": 8,
      "outputs": []
    },
    {
      "cell_type": "code",
      "metadata": {
        "colab": {
          "base_uri": "https://localhost:8080/",
          "height": 71
        },
        "id": "lmZsh4QoAaon",
        "outputId": "207db056-ecb0-43a1-eeb3-ec0b6f12259b"
      },
      "source": [
        "from collections import Counter\r\n",
        "def the_game_of_poker(player1:'cards of player 1',player2:'cards of player 2') ->'a string':\r\n",
        "  '''\r\n",
        "    This function is to play the game of poker and declare a winner\r\n",
        "    Input: list of cards of player 1 and player 2 (can only be 3/4/5 cards)\r\n",
        "    Output: The player who won the match or if the match was draw\r\n",
        "  '''\r\n",
        "  if len(player1) < 3 or len(player1) > 5 or len(player2) < 3 or len(player2) > 5:\r\n",
        "    raise ValueError(\"Only 3/4/5 cards allowed per player\")\r\n",
        "  if len(player1) != len(player2):\r\n",
        "    raise ValueError(\"Number of cards for both players have to be same\")\r\n",
        "  player1_calc = calculate(player1)\r\n",
        "  player2_calc = calculate(player2)\r\n",
        "  print(player1_calc)\r\n",
        "  print(player2_calc)\r\n",
        "  if player1_calc < player2_calc:\r\n",
        "    return 'Player 1 is the winner'\r\n",
        "  elif player1_calc > player2_calc:\r\n",
        "    return 'Player 2 is the winner'\r\n",
        "  else:\r\n",
        "    return 'Draw match'\r\n",
        "  \r\n",
        "def calculate(cards: list) -> int:\r\n",
        "  val_list=[]\r\n",
        "  suits_list=[]\r\n",
        "  for card in cards:\r\n",
        "    val,suit = card.split(\",\")\r\n",
        "    val_list.append(val)\r\n",
        "    suits_list.append(suit)\r\n",
        "  val_list=convert_values(val_list)\r\n",
        "  abcd = check(val_list)\r\n",
        "  return abcd\r\n",
        "\r\n",
        "def check(val_list):\r\n",
        "  for i in range(0, len(val_list)): \r\n",
        "    val_list[i] = int(val_list[i]) \r\n",
        "\r\n",
        "  duplicate_count = dup(val_list)\r\n",
        "  key1 = list(duplicate_count.keys())[0]\r\n",
        "  key2 = list(duplicate_count.keys())[1]\r\n",
        "  if len(val_list) == 5:\r\n",
        "    if val_list[0]==11 and val_list[1]==12 and val_list[2]==13 and val_list[3]==14 and val_list[4]==10: \r\n",
        "        return 1\r\n",
        "    # print(val_list[0])\r\n",
        "    # print(seq2(val_list[1:]))\r\n",
        "    if val_list[0] == 12 and seq2(val_list[1:]):\r\n",
        "        return 5            #Flush\r\n",
        "    elif duplicate_count[key1] == 4:\r\n",
        "        return 3        #four of a kind\r\n",
        "    elif duplicate_count[key1] == 3:\r\n",
        "        if duplicate_count[key2] == 2:\r\n",
        "            return 4      #full house\r\n",
        "        else:\r\n",
        "            return 7      #three of a kind\r\n",
        "    elif duplicate_count[key1] == 2:\r\n",
        "        if duplicate_count[key2] == 2:\r\n",
        "            return 8      #one pair\r\n",
        "        else:\r\n",
        "            return 9      #high card\r\n",
        "    elif seq(val_list):\r\n",
        "        if val_list[0] == 10:\r\n",
        "          return 2    #Straight Flush\r\n",
        "        elif val_list[0] > 10:\r\n",
        "          return 10    \r\n",
        "        else:\r\n",
        "          return 6    #Straight\r\n",
        "    else:\r\n",
        "        return 10       #High Card\r\n",
        "\r\n",
        "  elif len(val_list) == 4:\r\n",
        "    if val_list[0]==11 and val_list[1]==12 and val_list[2]==13 and val_list[3]==14: \r\n",
        "        return 1\r\n",
        "    elif val_list[0] == 12 and seq2(val_list[1:]):\r\n",
        "        return 5            #Flush\r\n",
        "    key1 = list(duplicate_count.keys())[0]\r\n",
        "    if duplicate_count[key1] == 4:\r\n",
        "        return 3\r\n",
        "    elif duplicate_count[key1] == 3:\r\n",
        "        return 7\r\n",
        "    elif duplicate_count[key1] == 2:\r\n",
        "        key2 = list(duplicate_count.keys())[1]\r\n",
        "        if duplicate_count[key2] == 2:\r\n",
        "            return 8\r\n",
        "        else:\r\n",
        "            return 9\r\n",
        "    elif seq(val_list):\r\n",
        "      if val_list[0] == 10:\r\n",
        "        return 2    #Straight Flush\r\n",
        "      elif val_list[0] > 10:\r\n",
        "        return 10    \r\n",
        "      else:\r\n",
        "        return 6    #Straight\r\n",
        "    else:\r\n",
        "      return 10       #High Card\r\n",
        "\r\n",
        "  elif len(val_list) == 3:\r\n",
        "      if val_list[0]==11 and val_list[1]==12 and val_list[2]==13: \r\n",
        "        return 1\r\n",
        "      elif val_list[0] == 12 and seq2(val_list[1:]):\r\n",
        "        return 5            #Flush\r\n",
        "      key1 = list(duplicate_count.keys())[0]\r\n",
        "      if duplicate_count[key1] == 3:\r\n",
        "          return 7\r\n",
        "      elif duplicate_count[key1] == 2:\r\n",
        "          #key2 = list(duplicate_count.keys())[1]\r\n",
        "          return 9\r\n",
        "      elif seq(val_list):\r\n",
        "        if val_list[0] == 10:\r\n",
        "          return 2    #Straight Flush\r\n",
        "        elif val_list[0] > 10:\r\n",
        "          return 10   \r\n",
        "        else:\r\n",
        "          return 6    #Straight\r\n",
        "      else:\r\n",
        "          return 10   #High Card\r\n",
        "\r\n",
        "def seq(val_list):\r\n",
        "  if sorted(val_list) == list(range(min(val_list),max(val_list)+1)):\r\n",
        "    return sorted(val_list)\r\n",
        "  else:\r\n",
        "    return []\r\n",
        "\r\n",
        "def seq2(val_list):\r\n",
        "  l1 = list(range(min(val_list),max(val_list)+1,2))\r\n",
        "  if sorted(val_list) == l1:\r\n",
        "    return sorted(val_list)\r\n",
        "  else:\r\n",
        "    return []\r\n",
        "\r\n",
        "def dup(val_list):\r\n",
        "  duplicate_count = dict(Counter(val_list))\r\n",
        "  duplicate_count = {k: v for k, v in sorted(duplicate_count.items(), key=lambda item: item[1],reverse =  True)}\r\n",
        "  return duplicate_count  \r\n",
        "\r\n",
        "#convert suits to numeric values\r\n",
        "def convert_values(val_list):\r\n",
        "  for k in range(len(val_list)):\r\n",
        "    if val_list[k] == 'ace':\r\n",
        "      val_list[k] = '11'\r\n",
        "    if val_list[k] == 'king':\r\n",
        "      val_list[k] = '12'\r\n",
        "    if val_list[k] == 'queen':\r\n",
        "      val_list[k] = '13'\r\n",
        "    if val_list[k] == 'jack':\r\n",
        "      val_list[k] = '14'\r\n",
        "  return (val_list)\r\n",
        "\r\n",
        "#the_game_of_poker(['king,spades','8,spades','6,spades','4,clubs','2,clubs'],['king,spades','8,spades','2,spades','2,spades','3,clubs'])\r\n",
        "the_game_of_poker(['10,spades','9,spades','8,spades','7,hearts','6,spades'],['king,spades','8,spades','5,diamonds','10,diamonds','6,diamonds'])\r\n",
        "#the_game_of_poker(['ace,spades','king,spades','queen,spades','jack,hearts','10,diamonds'],['queen,clubs','5,spades','9,diamonds','10,diamonds','jack,hearts'])  \r\n",
        "#the_game_of_poker(['2,spades','2,spades','8,spades','8,hearts','6,spades'],['2,spades','7,spades','5,diamonds','7,diamonds','6,diamonds'])\r\n",
        "\r\n"
      ],
      "execution_count": 10,
      "outputs": [
        {
          "output_type": "stream",
          "text": [
            "2\n",
            "10\n"
          ],
          "name": "stdout"
        },
        {
          "output_type": "execute_result",
          "data": {
            "application/vnd.google.colaboratory.intrinsic+json": {
              "type": "string"
            },
            "text/plain": [
              "'Player 1 is the winner'"
            ]
          },
          "metadata": {
            "tags": []
          },
          "execution_count": 10
        }
      ]
    },
    {
      "cell_type": "code",
      "metadata": {
        "id": "TxS_bi8mcD8Z"
      },
      "source": [
        "def test_no_of_cards_error_less():\r\n",
        "  with pytest.raises(ValueError):\r\n",
        "    the_game_of_poker(['2,spades','5,spades','ace,spades','2,spades'],['king,spades','8,spades'])\r\n",
        "test_no_of_cards_error_less()"
      ],
      "execution_count": 62,
      "outputs": []
    },
    {
      "cell_type": "code",
      "metadata": {
        "id": "c53_P27ycD42"
      },
      "source": [
        "def test_no_of_cards_error_more():\r\n",
        "  with pytest.raises(ValueError):\r\n",
        "    the_game_of_poker(['2,spades','5,spades','ace,spades','2,spades','queen,hearts','king,diamonds'],['king,spades','8,spades'])\r\n",
        "test_no_of_cards_error_more()"
      ],
      "execution_count": 63,
      "outputs": []
    },
    {
      "cell_type": "code",
      "metadata": {
        "id": "HMztyQE-cD2b"
      },
      "source": [
        "def test_no_of_cards_error_len():\r\n",
        "  with pytest.raises(ValueError):\r\n",
        "    the_game_of_poker(['2,spades','5,spades','ace,spades','queen,hearts','king,diamonds'],['king,spades','8,spades','5,diamonds'])  \r\n",
        "test_no_of_cards_error_len()"
      ],
      "execution_count": 64,
      "outputs": []
    },
    {
      "cell_type": "code",
      "metadata": {
        "colab": {
          "base_uri": "https://localhost:8080/"
        },
        "id": "kpL2TOwOcDzs",
        "outputId": "39e4e6f4-f878-4567-aa6c-8e87ffcb1e37"
      },
      "source": [
        "def test_royal_flush_5():\r\n",
        "    win = the_game_of_poker(['ace,spades','king,spades','queen,spades','jack,hearts','10,diamonds'],['king,spades','8,spades','5,diamonds','10,diamonds','ace,hearts'])  \r\n",
        "    assert win == 'Player 1 is the winner'\r\n",
        "test_royal_flush_5()"
      ],
      "execution_count": 112,
      "outputs": [
        {
          "output_type": "stream",
          "text": [
            "1\n",
            "10\n"
          ],
          "name": "stdout"
        }
      ]
    },
    {
      "cell_type": "code",
      "metadata": {
        "colab": {
          "base_uri": "https://localhost:8080/"
        },
        "id": "LFmhA3GucDtK",
        "outputId": "2faadc6a-8de7-4616-e9b2-d22ae4533f11"
      },
      "source": [
        "def test_straight_flush_5():\r\n",
        "    win = the_game_of_poker(['10,spades','9,spades','8,spades','7,hearts','6,spades'],['king,spades','8,spades','5,diamonds','10,diamonds','6,diamonds'])\r\n",
        "    assert win == \"Player 1 is the winner\"\r\n",
        "test_straight_flush_5()"
      ],
      "execution_count": 113,
      "outputs": [
        {
          "output_type": "stream",
          "text": [
            "2\n",
            "10\n"
          ],
          "name": "stdout"
        }
      ]
    },
    {
      "cell_type": "code",
      "metadata": {
        "colab": {
          "base_uri": "https://localhost:8080/"
        },
        "id": "9IK5wXL_pu1n",
        "outputId": "33852fea-782b-45be-d5e4-bc4d833a81fe"
      },
      "source": [
        "def test_four_of_a_kind_5():\r\n",
        "    win = the_game_of_poker(['ace,spades','2,spades','queen,spades','jack,hearts','10,diamonds'],['queen,clubs','queen,spades','queen,diamonds','10,diamonds','queen,hearts'])  \r\n",
        "    assert win == \"Player 2 is the winner\"\r\n",
        "test_four_of_a_kind_5()"
      ],
      "execution_count": 115,
      "outputs": [
        {
          "output_type": "stream",
          "text": [
            "10\n",
            "3\n"
          ],
          "name": "stdout"
        }
      ]
    },
    {
      "cell_type": "code",
      "metadata": {
        "colab": {
          "base_uri": "https://localhost:8080/"
        },
        "id": "F-18a6ArpuzV",
        "outputId": "d42c0037-67a5-40b1-eb37-25bacaf27eaf"
      },
      "source": [
        "def test_full_house_5():\r\n",
        "    win = the_game_of_poker(['ace,spades','2,spades','queen,spades','7,hearts','10,diamonds'],['ace,clubs','ace,spades','ace,diamonds','king,diamonds','king,hearts'])  \r\n",
        "    assert win == \"Player 2 is the winner\"\r\n",
        "test_full_house_5()"
      ],
      "execution_count": 116,
      "outputs": [
        {
          "output_type": "stream",
          "text": [
            "10\n",
            "4\n"
          ],
          "name": "stdout"
        }
      ]
    },
    {
      "cell_type": "code",
      "metadata": {
        "colab": {
          "base_uri": "https://localhost:8080/"
        },
        "id": "pxCqAQS2puwq",
        "outputId": "be0a2958-1e15-40c6-e54b-c357b65a5de9"
      },
      "source": [
        "def test_flush_5():\r\n",
        "    win = the_game_of_poker(['king,spades','8,spades','6,spades','4,hearts','2,diamonds'],['7,clubs','ace,spades','1,diamonds','queen,diamonds','king,hearts'])  \r\n",
        "    assert win == 'Player 1 is the winner'\r\n",
        "test_flush_5()"
      ],
      "execution_count": 117,
      "outputs": [
        {
          "output_type": "stream",
          "text": [
            "5\n",
            "10\n"
          ],
          "name": "stdout"
        }
      ]
    },
    {
      "cell_type": "code",
      "metadata": {
        "colab": {
          "base_uri": "https://localhost:8080/"
        },
        "id": "YZ48Z9JFpuuu",
        "outputId": "124bbab2-0478-429c-9b08-5349ad8c4fc3"
      },
      "source": [
        "def test_straight_5():\r\n",
        "    win = the_game_of_poker(['8,spades','7,spades','6,spades','5,hearts','4,diamonds'],['ace,clubs','10,spades','9,diamonds','king,diamonds','2,hearts'])  \r\n",
        "    assert win == \"Player 1 is the winner\"\r\n",
        "test_straight_5()"
      ],
      "execution_count": 118,
      "outputs": [
        {
          "output_type": "stream",
          "text": [
            "6\n",
            "10\n"
          ],
          "name": "stdout"
        }
      ]
    },
    {
      "cell_type": "code",
      "metadata": {
        "colab": {
          "base_uri": "https://localhost:8080/"
        },
        "id": "DQDrmZqRpusZ",
        "outputId": "0203fc99-918a-4666-9072-c8a9a338ea65"
      },
      "source": [
        "def test_three_of_a_kind_5():\r\n",
        "    win = the_game_of_poker(['8,spades','queen,spades','6,spades','king,hearts','4,diamonds'],['queen,clubs','10,spades','queen,diamonds','king,diamonds','queen,hearts'])  \r\n",
        "    assert win == \"Player 2 is the winner\"\r\n",
        "test_three_of_a_kind_5()"
      ],
      "execution_count": 120,
      "outputs": [
        {
          "output_type": "stream",
          "text": [
            "10\n",
            "7\n"
          ],
          "name": "stdout"
        }
      ]
    },
    {
      "cell_type": "code",
      "metadata": {
        "colab": {
          "base_uri": "https://localhost:8080/"
        },
        "id": "YDd3JUWhpup0",
        "outputId": "9eaff319-44a9-4bff-f4b3-2d44205e3d5b"
      },
      "source": [
        "def test_two_pairs_5():\r\n",
        "    win = the_game_of_poker(['8,spades','king,spades','6,spades','jack,hearts','4,diamonds'],['jack,clubs','10,spades','jack,diamonds','10,diamonds','2,hearts'])  \r\n",
        "    assert win == \"Player 2 is the winner\"\r\n",
        "test_two_pairs_5()"
      ],
      "execution_count": 123,
      "outputs": [
        {
          "output_type": "stream",
          "text": [
            "10\n",
            "8\n"
          ],
          "name": "stdout"
        }
      ]
    },
    {
      "cell_type": "code",
      "metadata": {
        "colab": {
          "base_uri": "https://localhost:8080/"
        },
        "id": "_Yn0864Xvl_i",
        "outputId": "964bba91-c266-4516-95e4-5d9b09779a56"
      },
      "source": [
        "def test_one_pair_5():\r\n",
        "    win = the_game_of_poker(['5,spades','7,spades','6,spades','5,hearts','4,diamonds'],['jack,clubs','queen,spades','7,diamonds','10,diamonds','2,hearts'])  \r\n",
        "    assert win == \"Player 1 is the winner\"\r\n",
        "test_one_pair_5()"
      ],
      "execution_count": 125,
      "outputs": [
        {
          "output_type": "stream",
          "text": [
            "9\n",
            "10\n"
          ],
          "name": "stdout"
        }
      ]
    },
    {
      "cell_type": "code",
      "metadata": {
        "colab": {
          "base_uri": "https://localhost:8080/"
        },
        "id": "5JFeFZr0v20_",
        "outputId": "6410e41c-44eb-4fc4-f7a4-8f2880724835"
      },
      "source": [
        "def test_high_card_5():\r\n",
        "    win = the_game_of_poker(['5,spades','7,spades','6,spades','jack,hearts','4,diamonds'],['ace,clubs','queen,spades','6,diamonds','4,diamonds','2,hearts'])  \r\n",
        "    assert win == \"Draw match\"\r\n",
        "test_high_card_5()"
      ],
      "execution_count": 12,
      "outputs": [
        {
          "output_type": "stream",
          "text": [
            "10\n",
            "10\n"
          ],
          "name": "stdout"
        }
      ]
    },
    {
      "cell_type": "code",
      "metadata": {
        "colab": {
          "base_uri": "https://localhost:8080/"
        },
        "id": "v3WDhrWhwR3W",
        "outputId": "60f6f9fa-7a21-4901-8fb5-983aef6ca049"
      },
      "source": [
        "def test_royal_flush_4():\r\n",
        "    win = the_game_of_poker(['ace,spades','king,spades','queen,spades','jack,hearts'],['king,spades','8,spades','5,diamonds','ace,hearts'])  \r\n",
        "    assert win == \"Player 1 is the winner\"\r\n",
        "test_royal_flush_4()"
      ],
      "execution_count": 128,
      "outputs": [
        {
          "output_type": "stream",
          "text": [
            "1\n",
            "10\n"
          ],
          "name": "stdout"
        }
      ]
    },
    {
      "cell_type": "code",
      "metadata": {
        "colab": {
          "base_uri": "https://localhost:8080/"
        },
        "id": "uJmVcs3xwR0O",
        "outputId": "4fd1fd4c-ff7c-47c7-dcd1-df90443256d6"
      },
      "source": [
        "def test_straight_flush_4():\r\n",
        "    win = the_game_of_poker(['10,spades','9,spades','8,spades','7,hearts'],['king,spades','8,spades','5,diamonds','10,diamonds'])  \r\n",
        "    assert win == \"Player 1 is the winner\"\r\n",
        "test_straight_flush_4()"
      ],
      "execution_count": 129,
      "outputs": [
        {
          "output_type": "stream",
          "text": [
            "2\n",
            "10\n"
          ],
          "name": "stdout"
        }
      ]
    },
    {
      "cell_type": "code",
      "metadata": {
        "colab": {
          "base_uri": "https://localhost:8080/",
          "height": 351
        },
        "id": "MBiNVDjvwRxB",
        "outputId": "058a5f52-0da3-436a-bf51-8496af1e9013"
      },
      "source": [
        "def test_four_of_a_kind_4():\r\n",
        "    win = the_game_of_poker(['ace,spades','king,spades','5,spades','10,diamonds'],['queen,clubs','queen,spades','queen,diamonds','queen,hearts'])  \r\n",
        "    assert win == \"Player 2 is the winner\"\r\n",
        "test_four_of_a_kind_4()"
      ],
      "execution_count": 130,
      "outputs": [
        {
          "output_type": "error",
          "ename": "IndexError",
          "evalue": "ignored",
          "traceback": [
            "\u001b[0;31m---------------------------------------------------------------------------\u001b[0m",
            "\u001b[0;31mIndexError\u001b[0m                                Traceback (most recent call last)",
            "\u001b[0;32m<ipython-input-130-797c99a7546c>\u001b[0m in \u001b[0;36m<module>\u001b[0;34m()\u001b[0m\n\u001b[1;32m      2\u001b[0m     \u001b[0mwin\u001b[0m \u001b[0;34m=\u001b[0m \u001b[0mthe_game_of_poker\u001b[0m\u001b[0;34m(\u001b[0m\u001b[0;34m[\u001b[0m\u001b[0;34m'ace,spades'\u001b[0m\u001b[0;34m,\u001b[0m\u001b[0;34m'king,spades'\u001b[0m\u001b[0;34m,\u001b[0m\u001b[0;34m'5,spades'\u001b[0m\u001b[0;34m,\u001b[0m\u001b[0;34m'10,diamonds'\u001b[0m\u001b[0;34m]\u001b[0m\u001b[0;34m,\u001b[0m\u001b[0;34m[\u001b[0m\u001b[0;34m'queen,clubs'\u001b[0m\u001b[0;34m,\u001b[0m\u001b[0;34m'queen,spades'\u001b[0m\u001b[0;34m,\u001b[0m\u001b[0;34m'queen,diamonds'\u001b[0m\u001b[0;34m,\u001b[0m\u001b[0;34m'queen,hearts'\u001b[0m\u001b[0;34m]\u001b[0m\u001b[0;34m)\u001b[0m\u001b[0;34m\u001b[0m\u001b[0;34m\u001b[0m\u001b[0m\n\u001b[1;32m      3\u001b[0m     \u001b[0;32massert\u001b[0m \u001b[0mwin\u001b[0m \u001b[0;34m==\u001b[0m \u001b[0;34m\"Player 2 is the winner\"\u001b[0m\u001b[0;34m\u001b[0m\u001b[0;34m\u001b[0m\u001b[0m\n\u001b[0;32m----> 4\u001b[0;31m \u001b[0mtest_four_of_a_kind_4\u001b[0m\u001b[0;34m(\u001b[0m\u001b[0;34m)\u001b[0m\u001b[0;34m\u001b[0m\u001b[0;34m\u001b[0m\u001b[0m\n\u001b[0m",
            "\u001b[0;32m<ipython-input-130-797c99a7546c>\u001b[0m in \u001b[0;36mtest_four_of_a_kind_4\u001b[0;34m()\u001b[0m\n\u001b[1;32m      1\u001b[0m \u001b[0;32mdef\u001b[0m \u001b[0mtest_four_of_a_kind_4\u001b[0m\u001b[0;34m(\u001b[0m\u001b[0;34m)\u001b[0m\u001b[0;34m:\u001b[0m\u001b[0;34m\u001b[0m\u001b[0;34m\u001b[0m\u001b[0m\n\u001b[0;32m----> 2\u001b[0;31m     \u001b[0mwin\u001b[0m \u001b[0;34m=\u001b[0m \u001b[0mthe_game_of_poker\u001b[0m\u001b[0;34m(\u001b[0m\u001b[0;34m[\u001b[0m\u001b[0;34m'ace,spades'\u001b[0m\u001b[0;34m,\u001b[0m\u001b[0;34m'king,spades'\u001b[0m\u001b[0;34m,\u001b[0m\u001b[0;34m'5,spades'\u001b[0m\u001b[0;34m,\u001b[0m\u001b[0;34m'10,diamonds'\u001b[0m\u001b[0;34m]\u001b[0m\u001b[0;34m,\u001b[0m\u001b[0;34m[\u001b[0m\u001b[0;34m'queen,clubs'\u001b[0m\u001b[0;34m,\u001b[0m\u001b[0;34m'queen,spades'\u001b[0m\u001b[0;34m,\u001b[0m\u001b[0;34m'queen,diamonds'\u001b[0m\u001b[0;34m,\u001b[0m\u001b[0;34m'queen,hearts'\u001b[0m\u001b[0;34m]\u001b[0m\u001b[0;34m)\u001b[0m\u001b[0;34m\u001b[0m\u001b[0;34m\u001b[0m\u001b[0m\n\u001b[0m\u001b[1;32m      3\u001b[0m     \u001b[0;32massert\u001b[0m \u001b[0mwin\u001b[0m \u001b[0;34m==\u001b[0m \u001b[0;34m\"Player 2 is the winner\"\u001b[0m\u001b[0;34m\u001b[0m\u001b[0;34m\u001b[0m\u001b[0m\n\u001b[1;32m      4\u001b[0m \u001b[0mtest_four_of_a_kind_4\u001b[0m\u001b[0;34m(\u001b[0m\u001b[0;34m)\u001b[0m\u001b[0;34m\u001b[0m\u001b[0;34m\u001b[0m\u001b[0m\n",
            "\u001b[0;32m<ipython-input-111-90fc0de73ea3>\u001b[0m in \u001b[0;36mthe_game_of_poker\u001b[0;34m(player1, player2)\u001b[0m\n\u001b[1;32m      6\u001b[0m     \u001b[0;32mraise\u001b[0m \u001b[0mValueError\u001b[0m\u001b[0;34m(\u001b[0m\u001b[0;34m\"Number of cards for both players have to be same\"\u001b[0m\u001b[0;34m)\u001b[0m\u001b[0;34m\u001b[0m\u001b[0;34m\u001b[0m\u001b[0m\n\u001b[1;32m      7\u001b[0m   \u001b[0mplayer1_calc\u001b[0m \u001b[0;34m=\u001b[0m \u001b[0mcalculate\u001b[0m\u001b[0;34m(\u001b[0m\u001b[0mplayer1\u001b[0m\u001b[0;34m)\u001b[0m\u001b[0;34m\u001b[0m\u001b[0;34m\u001b[0m\u001b[0m\n\u001b[0;32m----> 8\u001b[0;31m   \u001b[0mplayer2_calc\u001b[0m \u001b[0;34m=\u001b[0m \u001b[0mcalculate\u001b[0m\u001b[0;34m(\u001b[0m\u001b[0mplayer2\u001b[0m\u001b[0;34m)\u001b[0m\u001b[0;34m\u001b[0m\u001b[0;34m\u001b[0m\u001b[0m\n\u001b[0m\u001b[1;32m      9\u001b[0m   \u001b[0mprint\u001b[0m\u001b[0;34m(\u001b[0m\u001b[0mplayer1_calc\u001b[0m\u001b[0;34m)\u001b[0m\u001b[0;34m\u001b[0m\u001b[0;34m\u001b[0m\u001b[0m\n\u001b[1;32m     10\u001b[0m   \u001b[0mprint\u001b[0m\u001b[0;34m(\u001b[0m\u001b[0mplayer2_calc\u001b[0m\u001b[0;34m)\u001b[0m\u001b[0;34m\u001b[0m\u001b[0;34m\u001b[0m\u001b[0m\n",
            "\u001b[0;32m<ipython-input-111-90fc0de73ea3>\u001b[0m in \u001b[0;36mcalculate\u001b[0;34m(cards)\u001b[0m\n\u001b[1;32m     24\u001b[0m     \u001b[0msuits_list\u001b[0m\u001b[0;34m.\u001b[0m\u001b[0mappend\u001b[0m\u001b[0;34m(\u001b[0m\u001b[0msuit\u001b[0m\u001b[0;34m)\u001b[0m\u001b[0;34m\u001b[0m\u001b[0;34m\u001b[0m\u001b[0m\n\u001b[1;32m     25\u001b[0m   \u001b[0mval_list\u001b[0m\u001b[0;34m=\u001b[0m\u001b[0mconvert_values\u001b[0m\u001b[0;34m(\u001b[0m\u001b[0mval_list\u001b[0m\u001b[0;34m)\u001b[0m\u001b[0;34m\u001b[0m\u001b[0;34m\u001b[0m\u001b[0m\n\u001b[0;32m---> 26\u001b[0;31m   \u001b[0mabcd\u001b[0m \u001b[0;34m=\u001b[0m \u001b[0mcheck\u001b[0m\u001b[0;34m(\u001b[0m\u001b[0mval_list\u001b[0m\u001b[0;34m)\u001b[0m\u001b[0;34m\u001b[0m\u001b[0;34m\u001b[0m\u001b[0m\n\u001b[0m\u001b[1;32m     27\u001b[0m   \u001b[0;32mreturn\u001b[0m \u001b[0mabcd\u001b[0m\u001b[0;34m\u001b[0m\u001b[0;34m\u001b[0m\u001b[0m\n\u001b[1;32m     28\u001b[0m \u001b[0;34m\u001b[0m\u001b[0m\n",
            "\u001b[0;32m<ipython-input-111-90fc0de73ea3>\u001b[0m in \u001b[0;36mcheck\u001b[0;34m(val_list)\u001b[0m\n\u001b[1;32m     33\u001b[0m   \u001b[0mduplicate_count\u001b[0m \u001b[0;34m=\u001b[0m \u001b[0mdup\u001b[0m\u001b[0;34m(\u001b[0m\u001b[0mval_list\u001b[0m\u001b[0;34m)\u001b[0m\u001b[0;34m\u001b[0m\u001b[0;34m\u001b[0m\u001b[0m\n\u001b[1;32m     34\u001b[0m   \u001b[0mkey1\u001b[0m \u001b[0;34m=\u001b[0m \u001b[0mlist\u001b[0m\u001b[0;34m(\u001b[0m\u001b[0mduplicate_count\u001b[0m\u001b[0;34m.\u001b[0m\u001b[0mkeys\u001b[0m\u001b[0;34m(\u001b[0m\u001b[0;34m)\u001b[0m\u001b[0;34m)\u001b[0m\u001b[0;34m[\u001b[0m\u001b[0;36m0\u001b[0m\u001b[0;34m]\u001b[0m\u001b[0;34m\u001b[0m\u001b[0;34m\u001b[0m\u001b[0m\n\u001b[0;32m---> 35\u001b[0;31m   \u001b[0mkey2\u001b[0m \u001b[0;34m=\u001b[0m \u001b[0mlist\u001b[0m\u001b[0;34m(\u001b[0m\u001b[0mduplicate_count\u001b[0m\u001b[0;34m.\u001b[0m\u001b[0mkeys\u001b[0m\u001b[0;34m(\u001b[0m\u001b[0;34m)\u001b[0m\u001b[0;34m)\u001b[0m\u001b[0;34m[\u001b[0m\u001b[0;36m1\u001b[0m\u001b[0;34m]\u001b[0m\u001b[0;34m\u001b[0m\u001b[0;34m\u001b[0m\u001b[0m\n\u001b[0m\u001b[1;32m     36\u001b[0m   \u001b[0;32mif\u001b[0m \u001b[0mlen\u001b[0m\u001b[0;34m(\u001b[0m\u001b[0mval_list\u001b[0m\u001b[0;34m)\u001b[0m \u001b[0;34m==\u001b[0m \u001b[0;36m5\u001b[0m\u001b[0;34m:\u001b[0m\u001b[0;34m\u001b[0m\u001b[0;34m\u001b[0m\u001b[0m\n\u001b[1;32m     37\u001b[0m     \u001b[0;32mif\u001b[0m \u001b[0mval_list\u001b[0m\u001b[0;34m[\u001b[0m\u001b[0;36m0\u001b[0m\u001b[0;34m]\u001b[0m\u001b[0;34m==\u001b[0m\u001b[0;36m11\u001b[0m \u001b[0;32mand\u001b[0m \u001b[0mval_list\u001b[0m\u001b[0;34m[\u001b[0m\u001b[0;36m1\u001b[0m\u001b[0;34m]\u001b[0m\u001b[0;34m==\u001b[0m\u001b[0;36m12\u001b[0m \u001b[0;32mand\u001b[0m \u001b[0mval_list\u001b[0m\u001b[0;34m[\u001b[0m\u001b[0;36m2\u001b[0m\u001b[0;34m]\u001b[0m\u001b[0;34m==\u001b[0m\u001b[0;36m13\u001b[0m \u001b[0;32mand\u001b[0m \u001b[0mval_list\u001b[0m\u001b[0;34m[\u001b[0m\u001b[0;36m3\u001b[0m\u001b[0;34m]\u001b[0m\u001b[0;34m==\u001b[0m\u001b[0;36m14\u001b[0m \u001b[0;32mand\u001b[0m \u001b[0mval_list\u001b[0m\u001b[0;34m[\u001b[0m\u001b[0;36m4\u001b[0m\u001b[0;34m]\u001b[0m\u001b[0;34m==\u001b[0m\u001b[0;36m10\u001b[0m\u001b[0;34m:\u001b[0m\u001b[0;34m\u001b[0m\u001b[0;34m\u001b[0m\u001b[0m\n",
            "\u001b[0;31mIndexError\u001b[0m: list index out of range"
          ]
        }
      ]
    },
    {
      "cell_type": "code",
      "metadata": {
        "colab": {
          "base_uri": "https://localhost:8080/"
        },
        "id": "XIjJJU21wRnj",
        "outputId": "12ffe16f-6776-4751-d38d-3567c75e26d3"
      },
      "source": [
        "def test_flush_4():\r\n",
        "    win = the_game_of_poker(['king,spades','8,spades','6,spades','4,hearts'],['ace,clubs','7,diamonds','5,diamonds','king,hearts'])  \r\n",
        "    assert win == \"Player 1 is the winner\"\r\n",
        "test_flush_4()"
      ],
      "execution_count": 131,
      "outputs": [
        {
          "output_type": "stream",
          "text": [
            "5\n",
            "10\n"
          ],
          "name": "stdout"
        }
      ]
    },
    {
      "cell_type": "code",
      "metadata": {
        "colab": {
          "base_uri": "https://localhost:8080/"
        },
        "id": "uIOSBh-9wRcI",
        "outputId": "be21aec5-bca7-47c6-9fb4-33c36108fb0e"
      },
      "source": [
        "def test_straight_4():\r\n",
        "    win = the_game_of_poker(['8,spades','7,spades','6,spades','5,hearts'],['ace,clubs','10,spades','9,diamonds','2,hearts'])  \r\n",
        "    assert win == \"Player 1 is the winner\"\r\n",
        "test_straight_4()"
      ],
      "execution_count": 132,
      "outputs": [
        {
          "output_type": "stream",
          "text": [
            "6\n",
            "10\n"
          ],
          "name": "stdout"
        }
      ]
    },
    {
      "cell_type": "code",
      "metadata": {
        "colab": {
          "base_uri": "https://localhost:8080/"
        },
        "id": "njS282E6De9e",
        "outputId": "710ff203-9567-440a-8a79-0d63d9cf01fb"
      },
      "source": [
        "def test_three_of_a_kind_4():\r\n",
        "    win = the_game_of_poker(['8,spades','6,spades','king,hearts','4,diamonds'],['queen,clubs','10,spades','queen,diamonds','queen,hearts'])  \r\n",
        "    assert win == \"Player 2 is the winner\"\r\n",
        "test_three_of_a_kind_4()"
      ],
      "execution_count": 133,
      "outputs": [
        {
          "output_type": "stream",
          "text": [
            "10\n",
            "7\n"
          ],
          "name": "stdout"
        }
      ]
    },
    {
      "cell_type": "code",
      "metadata": {
        "colab": {
          "base_uri": "https://localhost:8080/"
        },
        "id": "V4DbzU-ZDe6T",
        "outputId": "fffceb12-4a00-44e8-dc63-05dc4f1cf198"
      },
      "source": [
        "def test_two_pairs_4():\r\n",
        "    win = the_game_of_poker(['8,spades','7,spades','jack,hearts','4,diamonds'],['jack,clubs','10,spades','jack,diamonds','10,diamonds'])  \r\n",
        "    assert win == \"Player 2 is the winner\"\r\n",
        "test_two_pairs_4()"
      ],
      "execution_count": 134,
      "outputs": [
        {
          "output_type": "stream",
          "text": [
            "10\n",
            "8\n"
          ],
          "name": "stdout"
        }
      ]
    },
    {
      "cell_type": "code",
      "metadata": {
        "colab": {
          "base_uri": "https://localhost:8080/"
        },
        "id": "pfeGZTngDe3O",
        "outputId": "77a0eb51-cb8f-4788-edb8-bfb67636c9a6"
      },
      "source": [
        "def test_one_pair_4():\r\n",
        "    win = the_game_of_poker(['5,spades','7,spades','5,hearts','4,diamonds'],['jack,clubs','7,diamonds','10,diamonds','2,hearts'])  \r\n",
        "    assert win == \"Player 1 is the winner\"\r\n",
        "test_one_pair_4()"
      ],
      "execution_count": 135,
      "outputs": [
        {
          "output_type": "stream",
          "text": [
            "9\n",
            "10\n"
          ],
          "name": "stdout"
        }
      ]
    },
    {
      "cell_type": "code",
      "metadata": {
        "colab": {
          "base_uri": "https://localhost:8080/"
        },
        "id": "DM7mZHSbDe06",
        "outputId": "82616f3b-0a2b-41b2-9ef5-3ffb1830d49c"
      },
      "source": [
        "def test_high_card_4():\r\n",
        "    win = the_game_of_poker(['5,spades','queen,spades','2,hearts','4,diamonds'],['ace,clubs','queen,spades','6,diamonds','4,diamonds'])  \r\n",
        "    assert win == \"Draw match\"\r\n",
        "test_high_card_4()"
      ],
      "execution_count": 20,
      "outputs": [
        {
          "output_type": "stream",
          "text": [
            "10\n",
            "10\n"
          ],
          "name": "stdout"
        }
      ]
    },
    {
      "cell_type": "code",
      "metadata": {
        "colab": {
          "base_uri": "https://localhost:8080/",
          "height": 351
        },
        "id": "Mo-VE2WzDexY",
        "outputId": "86a257fa-fafc-404e-e1b8-b526f4e6538d"
      },
      "source": [
        "def test_three_of_a_kind_3():\r\n",
        "    win = the_game_of_poker(['8,spades','king,hearts','4,diamonds'],['queen,clubs','queen,diamonds','queen,hearts'])  \r\n",
        "    assert win == \"Player 2 is the winner\"\r\n",
        "test_three_of_a_kind_3()"
      ],
      "execution_count": 16,
      "outputs": [
        {
          "output_type": "error",
          "ename": "IndexError",
          "evalue": "ignored",
          "traceback": [
            "\u001b[0;31m---------------------------------------------------------------------------\u001b[0m",
            "\u001b[0;31mIndexError\u001b[0m                                Traceback (most recent call last)",
            "\u001b[0;32m<ipython-input-16-076c43124014>\u001b[0m in \u001b[0;36m<module>\u001b[0;34m()\u001b[0m\n\u001b[1;32m      2\u001b[0m     \u001b[0mwin\u001b[0m \u001b[0;34m=\u001b[0m \u001b[0mthe_game_of_poker\u001b[0m\u001b[0;34m(\u001b[0m\u001b[0;34m[\u001b[0m\u001b[0;34m'8,spades'\u001b[0m\u001b[0;34m,\u001b[0m\u001b[0;34m'king,hearts'\u001b[0m\u001b[0;34m,\u001b[0m\u001b[0;34m'4,diamonds'\u001b[0m\u001b[0;34m]\u001b[0m\u001b[0;34m,\u001b[0m\u001b[0;34m[\u001b[0m\u001b[0;34m'queen,clubs'\u001b[0m\u001b[0;34m,\u001b[0m\u001b[0;34m'queen,diamonds'\u001b[0m\u001b[0;34m,\u001b[0m\u001b[0;34m'queen,hearts'\u001b[0m\u001b[0;34m]\u001b[0m\u001b[0;34m)\u001b[0m\u001b[0;34m\u001b[0m\u001b[0;34m\u001b[0m\u001b[0m\n\u001b[1;32m      3\u001b[0m     \u001b[0;32massert\u001b[0m \u001b[0mwin\u001b[0m \u001b[0;34m==\u001b[0m \u001b[0;34m\"Player 2 is the winner\"\u001b[0m\u001b[0;34m\u001b[0m\u001b[0;34m\u001b[0m\u001b[0m\n\u001b[0;32m----> 4\u001b[0;31m \u001b[0mtest_three_of_a_kind_3\u001b[0m\u001b[0;34m(\u001b[0m\u001b[0;34m)\u001b[0m\u001b[0;34m\u001b[0m\u001b[0;34m\u001b[0m\u001b[0m\n\u001b[0m",
            "\u001b[0;32m<ipython-input-16-076c43124014>\u001b[0m in \u001b[0;36mtest_three_of_a_kind_3\u001b[0;34m()\u001b[0m\n\u001b[1;32m      1\u001b[0m \u001b[0;32mdef\u001b[0m \u001b[0mtest_three_of_a_kind_3\u001b[0m\u001b[0;34m(\u001b[0m\u001b[0;34m)\u001b[0m\u001b[0;34m:\u001b[0m\u001b[0;34m\u001b[0m\u001b[0;34m\u001b[0m\u001b[0m\n\u001b[0;32m----> 2\u001b[0;31m     \u001b[0mwin\u001b[0m \u001b[0;34m=\u001b[0m \u001b[0mthe_game_of_poker\u001b[0m\u001b[0;34m(\u001b[0m\u001b[0;34m[\u001b[0m\u001b[0;34m'8,spades'\u001b[0m\u001b[0;34m,\u001b[0m\u001b[0;34m'king,hearts'\u001b[0m\u001b[0;34m,\u001b[0m\u001b[0;34m'4,diamonds'\u001b[0m\u001b[0;34m]\u001b[0m\u001b[0;34m,\u001b[0m\u001b[0;34m[\u001b[0m\u001b[0;34m'queen,clubs'\u001b[0m\u001b[0;34m,\u001b[0m\u001b[0;34m'queen,diamonds'\u001b[0m\u001b[0;34m,\u001b[0m\u001b[0;34m'queen,hearts'\u001b[0m\u001b[0;34m]\u001b[0m\u001b[0;34m)\u001b[0m\u001b[0;34m\u001b[0m\u001b[0;34m\u001b[0m\u001b[0m\n\u001b[0m\u001b[1;32m      3\u001b[0m     \u001b[0;32massert\u001b[0m \u001b[0mwin\u001b[0m \u001b[0;34m==\u001b[0m \u001b[0;34m\"Player 2 is the winner\"\u001b[0m\u001b[0;34m\u001b[0m\u001b[0;34m\u001b[0m\u001b[0m\n\u001b[1;32m      4\u001b[0m \u001b[0mtest_three_of_a_kind_3\u001b[0m\u001b[0;34m(\u001b[0m\u001b[0;34m)\u001b[0m\u001b[0;34m\u001b[0m\u001b[0;34m\u001b[0m\u001b[0m\n",
            "\u001b[0;32m<ipython-input-10-545b05bd85e8>\u001b[0m in \u001b[0;36mthe_game_of_poker\u001b[0;34m(player1, player2)\u001b[0m\n\u001b[1;32m     11\u001b[0m     \u001b[0;32mraise\u001b[0m \u001b[0mValueError\u001b[0m\u001b[0;34m(\u001b[0m\u001b[0;34m\"Number of cards for both players have to be same\"\u001b[0m\u001b[0;34m)\u001b[0m\u001b[0;34m\u001b[0m\u001b[0;34m\u001b[0m\u001b[0m\n\u001b[1;32m     12\u001b[0m   \u001b[0mplayer1_calc\u001b[0m \u001b[0;34m=\u001b[0m \u001b[0mcalculate\u001b[0m\u001b[0;34m(\u001b[0m\u001b[0mplayer1\u001b[0m\u001b[0;34m)\u001b[0m\u001b[0;34m\u001b[0m\u001b[0;34m\u001b[0m\u001b[0m\n\u001b[0;32m---> 13\u001b[0;31m   \u001b[0mplayer2_calc\u001b[0m \u001b[0;34m=\u001b[0m \u001b[0mcalculate\u001b[0m\u001b[0;34m(\u001b[0m\u001b[0mplayer2\u001b[0m\u001b[0;34m)\u001b[0m\u001b[0;34m\u001b[0m\u001b[0;34m\u001b[0m\u001b[0m\n\u001b[0m\u001b[1;32m     14\u001b[0m   \u001b[0mprint\u001b[0m\u001b[0;34m(\u001b[0m\u001b[0mplayer1_calc\u001b[0m\u001b[0;34m)\u001b[0m\u001b[0;34m\u001b[0m\u001b[0;34m\u001b[0m\u001b[0m\n\u001b[1;32m     15\u001b[0m   \u001b[0mprint\u001b[0m\u001b[0;34m(\u001b[0m\u001b[0mplayer2_calc\u001b[0m\u001b[0;34m)\u001b[0m\u001b[0;34m\u001b[0m\u001b[0;34m\u001b[0m\u001b[0m\n",
            "\u001b[0;32m<ipython-input-10-545b05bd85e8>\u001b[0m in \u001b[0;36mcalculate\u001b[0;34m(cards)\u001b[0m\n\u001b[1;32m     29\u001b[0m     \u001b[0msuits_list\u001b[0m\u001b[0;34m.\u001b[0m\u001b[0mappend\u001b[0m\u001b[0;34m(\u001b[0m\u001b[0msuit\u001b[0m\u001b[0;34m)\u001b[0m\u001b[0;34m\u001b[0m\u001b[0;34m\u001b[0m\u001b[0m\n\u001b[1;32m     30\u001b[0m   \u001b[0mval_list\u001b[0m\u001b[0;34m=\u001b[0m\u001b[0mconvert_values\u001b[0m\u001b[0;34m(\u001b[0m\u001b[0mval_list\u001b[0m\u001b[0;34m)\u001b[0m\u001b[0;34m\u001b[0m\u001b[0;34m\u001b[0m\u001b[0m\n\u001b[0;32m---> 31\u001b[0;31m   \u001b[0mabcd\u001b[0m \u001b[0;34m=\u001b[0m \u001b[0mcheck\u001b[0m\u001b[0;34m(\u001b[0m\u001b[0mval_list\u001b[0m\u001b[0;34m)\u001b[0m\u001b[0;34m\u001b[0m\u001b[0;34m\u001b[0m\u001b[0m\n\u001b[0m\u001b[1;32m     32\u001b[0m   \u001b[0;32mreturn\u001b[0m \u001b[0mabcd\u001b[0m\u001b[0;34m\u001b[0m\u001b[0;34m\u001b[0m\u001b[0m\n\u001b[1;32m     33\u001b[0m \u001b[0;34m\u001b[0m\u001b[0m\n",
            "\u001b[0;32m<ipython-input-10-545b05bd85e8>\u001b[0m in \u001b[0;36mcheck\u001b[0;34m(val_list)\u001b[0m\n\u001b[1;32m     38\u001b[0m   \u001b[0mduplicate_count\u001b[0m \u001b[0;34m=\u001b[0m \u001b[0mdup\u001b[0m\u001b[0;34m(\u001b[0m\u001b[0mval_list\u001b[0m\u001b[0;34m)\u001b[0m\u001b[0;34m\u001b[0m\u001b[0;34m\u001b[0m\u001b[0m\n\u001b[1;32m     39\u001b[0m   \u001b[0mkey1\u001b[0m \u001b[0;34m=\u001b[0m \u001b[0mlist\u001b[0m\u001b[0;34m(\u001b[0m\u001b[0mduplicate_count\u001b[0m\u001b[0;34m.\u001b[0m\u001b[0mkeys\u001b[0m\u001b[0;34m(\u001b[0m\u001b[0;34m)\u001b[0m\u001b[0;34m)\u001b[0m\u001b[0;34m[\u001b[0m\u001b[0;36m0\u001b[0m\u001b[0;34m]\u001b[0m\u001b[0;34m\u001b[0m\u001b[0;34m\u001b[0m\u001b[0m\n\u001b[0;32m---> 40\u001b[0;31m   \u001b[0mkey2\u001b[0m \u001b[0;34m=\u001b[0m \u001b[0mlist\u001b[0m\u001b[0;34m(\u001b[0m\u001b[0mduplicate_count\u001b[0m\u001b[0;34m.\u001b[0m\u001b[0mkeys\u001b[0m\u001b[0;34m(\u001b[0m\u001b[0;34m)\u001b[0m\u001b[0;34m)\u001b[0m\u001b[0;34m[\u001b[0m\u001b[0;36m1\u001b[0m\u001b[0;34m]\u001b[0m\u001b[0;34m\u001b[0m\u001b[0;34m\u001b[0m\u001b[0m\n\u001b[0m\u001b[1;32m     41\u001b[0m   \u001b[0;32mif\u001b[0m \u001b[0mlen\u001b[0m\u001b[0;34m(\u001b[0m\u001b[0mval_list\u001b[0m\u001b[0;34m)\u001b[0m \u001b[0;34m==\u001b[0m \u001b[0;36m5\u001b[0m\u001b[0;34m:\u001b[0m\u001b[0;34m\u001b[0m\u001b[0;34m\u001b[0m\u001b[0m\n\u001b[1;32m     42\u001b[0m     \u001b[0;32mif\u001b[0m \u001b[0mval_list\u001b[0m\u001b[0;34m[\u001b[0m\u001b[0;36m0\u001b[0m\u001b[0;34m]\u001b[0m\u001b[0;34m==\u001b[0m\u001b[0;36m11\u001b[0m \u001b[0;32mand\u001b[0m \u001b[0mval_list\u001b[0m\u001b[0;34m[\u001b[0m\u001b[0;36m1\u001b[0m\u001b[0;34m]\u001b[0m\u001b[0;34m==\u001b[0m\u001b[0;36m12\u001b[0m \u001b[0;32mand\u001b[0m \u001b[0mval_list\u001b[0m\u001b[0;34m[\u001b[0m\u001b[0;36m2\u001b[0m\u001b[0;34m]\u001b[0m\u001b[0;34m==\u001b[0m\u001b[0;36m13\u001b[0m \u001b[0;32mand\u001b[0m \u001b[0mval_list\u001b[0m\u001b[0;34m[\u001b[0m\u001b[0;36m3\u001b[0m\u001b[0;34m]\u001b[0m\u001b[0;34m==\u001b[0m\u001b[0;36m14\u001b[0m \u001b[0;32mand\u001b[0m \u001b[0mval_list\u001b[0m\u001b[0;34m[\u001b[0m\u001b[0;36m4\u001b[0m\u001b[0;34m]\u001b[0m\u001b[0;34m==\u001b[0m\u001b[0;36m10\u001b[0m\u001b[0;34m:\u001b[0m\u001b[0;34m\u001b[0m\u001b[0;34m\u001b[0m\u001b[0m\n",
            "\u001b[0;31mIndexError\u001b[0m: list index out of range"
          ]
        }
      ]
    },
    {
      "cell_type": "code",
      "metadata": {
        "colab": {
          "base_uri": "https://localhost:8080/"
        },
        "id": "l4XkrhrHDeuW",
        "outputId": "65462c63-2320-464e-f259-8e71f4370ab8"
      },
      "source": [
        "def test_two_pairs_3():\r\n",
        "    win = the_game_of_poker(['6,spades','queen,hearts','4,diamonds'],['jack,clubs','jack,diamonds','10,diamonds'])  \r\n",
        "    assert win == \"Player 2 is the winner\"\r\n",
        "test_two_pairs_3()"
      ],
      "execution_count": 142,
      "outputs": [
        {
          "output_type": "stream",
          "text": [
            "10\n",
            "9\n"
          ],
          "name": "stdout"
        }
      ]
    },
    {
      "cell_type": "code",
      "metadata": {
        "colab": {
          "base_uri": "https://localhost:8080/"
        },
        "id": "8yFjRpbWDere",
        "outputId": "dc3e9c3b-3cb4-4254-910e-0fdbefb2821e"
      },
      "source": [
        "def test_one_pair_3():\r\n",
        "    win = the_game_of_poker(['2, spades', '3, spades', '2, diamonds'], ['3 ,clubs', '4, hearts', '8, diamonds'])\r\n",
        "    assert win == \"Player 1 is the winner\"\r\n",
        "test_one_pair_3()"
      ],
      "execution_count": 15,
      "outputs": [
        {
          "output_type": "stream",
          "text": [
            "9\n",
            "10\n"
          ],
          "name": "stdout"
        }
      ]
    },
    {
      "cell_type": "code",
      "metadata": {
        "colab": {
          "base_uri": "https://localhost:8080/"
        },
        "id": "CbeC3sEOgMy3",
        "outputId": "656f285c-bc84-4f4c-c145-17a4f4e34681"
      },
      "source": [
        "def test_straight_flush_3():\r\n",
        "  win = the_game_of_poker(['2, spades', '3, spades', '2, diamonds'], ['10 ,clubs', '9, hearts', '8, diamonds'])\r\n",
        "  assert win == \"Player 2 is the winner\"\r\n",
        "test_straight_flush_3()"
      ],
      "execution_count": 18,
      "outputs": [
        {
          "output_type": "stream",
          "text": [
            "9\n",
            "2\n"
          ],
          "name": "stdout"
        }
      ]
    },
    {
      "cell_type": "code",
      "metadata": {
        "colab": {
          "base_uri": "https://localhost:8080/"
        },
        "id": "GFZrR9x6gMvW",
        "outputId": "b645939a-6700-4c5f-c2df-1f51951b85c5"
      },
      "source": [
        "def test_high_card_3():\r\n",
        "  win = the_game_of_poker(['2, spades', 'king, spades', '9, diamonds'], ['king,clubs', 'queen, hearts', '8, diamonds'])\r\n",
        "  assert win == \"Draw match\"\r\n",
        "test_high_card_3()"
      ],
      "execution_count": 24,
      "outputs": [
        {
          "output_type": "stream",
          "text": [
            "10\n",
            "10\n"
          ],
          "name": "stdout"
        }
      ]
    }
  ]
}