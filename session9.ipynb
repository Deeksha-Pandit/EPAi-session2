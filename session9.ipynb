{
  "nbformat": 4,
  "nbformat_minor": 0,
  "metadata": {
    "colab": {
      "name": "Untitled45.ipynb",
      "provenance": [],
      "authorship_tag": "ABX9TyP6ccLVaRi1W2kLhkD4Kz8x",
      "include_colab_link": true
    },
    "kernelspec": {
      "name": "python3",
      "display_name": "Python 3"
    }
  },
  "cells": [
    {
      "cell_type": "markdown",
      "metadata": {
        "id": "view-in-github",
        "colab_type": "text"
      },
      "source": [
        "<a href=\"https://colab.research.google.com/github/Deeksha-Pandit/EPAi-session2/blob/main/session9.ipynb\" target=\"_parent\"><img src=\"https://colab.research.google.com/assets/colab-badge.svg\" alt=\"Open In Colab\"/></a>"
      ]
    },
    {
      "cell_type": "code",
      "metadata": {
        "id": "GS5XsBc4GsVl"
      },
      "source": [
        "from functools import wraps\r\n",
        "from datetime import datetime\r\n",
        "import math\r\n",
        "from functools import singledispatch\r\n",
        "from decimal import Decimal\r\n",
        "from html import escape"
      ],
      "execution_count": 83,
      "outputs": []
    },
    {
      "cell_type": "code",
      "metadata": {
        "id": "O6vwEm093_zO"
      },
      "source": [
        "def oddtime(fn):\r\n",
        "    '''\r\n",
        "    This function executed on only odd seconds of time\r\n",
        "    '''\r\n",
        "    @wraps(fn)\r\n",
        "    def inner(*args, **kwargs):\r\n",
        "        '''\r\n",
        "        This function calculates the odd second\r\n",
        "        '''\r\n",
        "        dt = datetime.now()\r\n",
        "        if dt.second % 2 != 0:\r\n",
        "            print(dt.second)\r\n",
        "            return fn(*args, **kwargs)\r\n",
        "    return inner\r\n",
        "\r\n"
      ],
      "execution_count": 116,
      "outputs": []
    },
    {
      "cell_type": "code",
      "metadata": {
        "id": "2Xl4BSvf-vFJ"
      },
      "source": [
        "def test_oddtime():\r\n",
        "    @oddtime\r\n",
        "    def add(a,b):\r\n",
        "        return a+b\r\n",
        "test_oddtime()"
      ],
      "execution_count": 129,
      "outputs": []
    },
    {
      "cell_type": "code",
      "metadata": {
        "id": "-DvgJFMIbhrk"
      },
      "source": [
        "def logger(fn):\r\n",
        "    '''\r\n",
        "        This function logs all information of the decorator function\r\n",
        "        '''\r\n",
        "    @wraps(fn)\r\n",
        "    def inner(*args, **kwargs):\r\n",
        "        '''\r\n",
        "        This function helps logs time,name and doctsring of the function\r\n",
        "        '''\r\n",
        "        dt = datetime.now()\r\n",
        "        print(f'Function ran at: {dt} time')\r\n",
        "        print(f'Function name: {fn.__name__}')\r\n",
        "        print(f'Function used for: {fn.__doc__}')\r\n",
        "        return fn(*args, **kwargs)\r\n",
        "    return inner\r\n",
        "\r\n",
        "\r\n"
      ],
      "execution_count": 117,
      "outputs": []
    },
    {
      "cell_type": "code",
      "metadata": {
        "id": "vw3et5bj-naq"
      },
      "source": [
        "def test_logger():\r\n",
        "    @logger\r\n",
        "    def add(a,b):\r\n",
        "        '''\r\n",
        "        This is an add function\r\n",
        "        '''\r\n",
        "        return a+b\r\n",
        "test_logger()"
      ],
      "execution_count": 128,
      "outputs": []
    },
    {
      "cell_type": "code",
      "metadata": {
        "id": "JbXt1RzXiO-U"
      },
      "source": [
        "def auth(user_pwd):\r\n",
        "    '''\r\n",
        "    Authentication function\r\n",
        "    '''\r\n",
        "    def auth_in(fn):\r\n",
        "        '''\r\n",
        "        Here it checks if the user password equals the current password\r\n",
        "        '''\r\n",
        "        if user_pwd == 'asdf':\r\n",
        "            @wraps(fn)\r\n",
        "            def inner(*args, **kwargs):\r\n",
        "                return fn(*args, **kwargs)\r\n",
        "        else:\r\n",
        "            raise ValueError(\"Password Mismatch, please enter correct password\")\r\n",
        "            return inner\r\n",
        "    return auth_in\r\n",
        "\r\n"
      ],
      "execution_count": 119,
      "outputs": []
    },
    {
      "cell_type": "code",
      "metadata": {
        "id": "v3n14nNG-cHM"
      },
      "source": [
        "def test_auth():\r\n",
        "    @auth(user_pwd='asdf')\r\n",
        "    def pwd():\r\n",
        "        print(\"Authenticate\")\r\n",
        "test_auth()"
      ],
      "execution_count": 126,
      "outputs": []
    },
    {
      "cell_type": "code",
      "metadata": {
        "id": "jFOGWiAy96yZ"
      },
      "source": [
        "def test_auth_error():\r\n",
        "    with pytest.raises(ValueError):\r\n",
        "        @auth(user_pwd='abcd')\r\n",
        "        def pwd():\r\n",
        "            print(\"Authenticate\")\r\n",
        "test_auth_error()"
      ],
      "execution_count": 127,
      "outputs": []
    },
    {
      "cell_type": "code",
      "metadata": {
        "id": "SsGudDGonURg"
      },
      "source": [
        "def time_func(reps):\r\n",
        "    '''\r\n",
        "    This function takes in integer as an input and calculates average time\r\n",
        "    '''\r\n",
        "    def timed(fn):\r\n",
        "        from time import perf_counter\r\n",
        "        '''\r\n",
        "        Timer function\r\n",
        "        '''\r\n",
        "        def inner(*args, **kwargs):\r\n",
        "            total_elapsed = 0\r\n",
        "\r\n",
        "            for i in range(reps):\r\n",
        "                start = perf_counter()\r\n",
        "                result = fn(*args, **kwargs)\r\n",
        "                end = perf_counter()\r\n",
        "                total_elapsed += (end - start)\r\n",
        "            avg_run_time = total_elapsed / reps\r\n",
        "            print('Avg Run time: {0:.6f}s ({1} reps)'.format(avg_run_time, reps))\r\n",
        "            return result\r\n",
        "        return inner\r\n",
        "    return timed\r\n"
      ],
      "execution_count": 59,
      "outputs": []
    },
    {
      "cell_type": "code",
      "metadata": {
        "id": "SnD4dP7jo7C9"
      },
      "source": [
        "def test_time_func():\r\n",
        "    @time_func(5)\r\n",
        "    def time_():\r\n",
        "        print(\"Average\")\r\n",
        "test_time_func()"
      ],
      "execution_count": 130,
      "outputs": []
    },
    {
      "cell_type": "code",
      "metadata": {
        "id": "qiTfE9ZUqvJ3"
      },
      "source": [
        "def access(num):\r\n",
        "    '''\r\n",
        "    This function checks access high,mid,low,no and has different privelages for each\r\n",
        "    '''\r\n",
        "    dictionary = {1:('high','mid','low','no'),2:('mid','low','no'),3:('low','no'),4:('no')}\r\n",
        "    def func(fn):\r\n",
        "        '''\r\n",
        "        Checks if the function name passed is contained in the dictionary\r\n",
        "        '''\r\n",
        "        number = dictionary.get(num)\r\n",
        "        if fn.__name__ == number:\r\n",
        "            @wraps(fn)\r\n",
        "            def inner(*args, **kwargs):\r\n",
        "                return fn(*args,**kwargs)\r\n",
        "            return inner\r\n",
        "        else:\r\n",
        "            raise ValueError(\"hfdxzxfcgvbkl\")\r\n",
        "    return func"
      ],
      "execution_count": 70,
      "outputs": []
    },
    {
      "cell_type": "code",
      "metadata": {
        "id": "sF7y-Bbou3o5"
      },
      "source": [
        "import pytest\r\n",
        "def test_access_levels():\r\n",
        "    @access(4)\r\n",
        "    def no():\r\n",
        "        return \"LOW\"\r\n",
        "    assert no() == \"LOW\",\"Something went wrong\"\r\n",
        "    with pytest.raises(ValueError):\r\n",
        "        @access(3)\r\n",
        "        def high(a,b):\r\n",
        "            return \"HIGH\"\r\n",
        "test_access_levels()"
      ],
      "execution_count": 72,
      "outputs": []
    },
    {
      "cell_type": "code",
      "metadata": {
        "id": "IQVo5KsZvzUn"
      },
      "source": [
        "@singledispatch\r\n",
        "def htmlize(a: 'input argument') -> str :\r\n",
        "    '''\r\n",
        "    This function htmlizes the input based on its type\r\n",
        "    '''\r\n",
        "    return escape(str(a))\r\n",
        "\r\n",
        "@htmlize.register(int)\r\n",
        "def html_int(a: int) -> str:\r\n",
        "    '''\r\n",
        "    This function converts int in html format\r\n",
        "    '''\r\n",
        "    return f'{a}(<i>{str(hex(a))}</i>)'\r\n",
        "\r\n",
        "@htmlize.register(Decimal)\r\n",
        "@htmlize.register(float)\r\n",
        "def html_real(a: float) -> str:\r\n",
        "    '''\r\n",
        "    This function converts real numbers to html format\r\n",
        "    '''\r\n",
        "    return f'{round(a, 2)}'\r\n",
        "\r\n",
        "@htmlize.register(str)\r\n",
        "def html_str(a: str) -> str:\r\n",
        "    '''\r\n",
        "    This function converts string to html format\r\n",
        "    '''\r\n",
        "    return escape(a).replace('\\n', '<br/>\\n')\r\n",
        "\r\n",
        "@htmlize.register(tuple)\r\n",
        "@htmlize.register(list)\r\n",
        "@htmlize.register(set)\r\n",
        "def html_sequence(a) ->str:\r\n",
        "    '''\r\n",
        "    This function converts a sequence to html format\r\n",
        "    '''\r\n",
        "    loop = (f'<li>{escape(str(i))}</li>' for i in a)\r\n",
        "    return '<ul>\\n' + '\\n'.join(loop) + '\\n</ul>'\r\n",
        "\r\n",
        "@htmlize.register(dict)\r\n",
        "def html_dict(a: dict) -> str:\r\n",
        "    '''\r\n",
        "    This function converts dictionary in html format\r\n",
        "    '''\r\n",
        "    loop = (f'<li>{k}={v}</li>' for k, v in a.items())\r\n",
        "    return '<ul>\\n' + '\\n'.join(loop) + '\\n</ul>'"
      ],
      "execution_count": 108,
      "outputs": []
    },
    {
      "cell_type": "code",
      "metadata": {
        "id": "W0XpqeRoxm9H"
      },
      "source": [
        "def test_htmlize():\r\n",
        "    assert htmlize(500) == '500(<i>0x1f4</i>)'\r\n",
        "    assert htmlize(510) == '510(<i>0x1fe</i>)'\r\n",
        "    assert htmlize(4.2) == '4.2'\r\n",
        "    assert htmlize(\"This is a function\\n htmlize function\") == 'This is a function<br/>\\n htmlize function'\r\n",
        "    assert htmlize([2,3,4]) == '<ul>\\n<li>2</li>\\n<li>3</li>\\n<li>4</li>\\n</ul>'\r\n",
        "    assert htmlize({1:'a',2:'b',3:'c'}) == '<ul>\\n<li>1=a</li>\\n<li>2=b</li>\\n<li>3=c</li>\\n</ul>'\r\n",
        "test_htmlize()"
      ],
      "execution_count": 110,
      "outputs": []
    },
    {
      "cell_type": "code",
      "metadata": {
        "id": "nxk46K198dZk"
      },
      "source": [
        "#oddtime,htmlize, logger, auth, authenticate,time_func, access, singledispatch,html_int,html_real,html_str,html_sequence,html_dict"
      ],
      "execution_count": null,
      "outputs": []
    },
    {
      "cell_type": "code",
      "metadata": {
        "id": "vjMiIGw-8dWD"
      },
      "source": [
        "'''\r\n",
        "# oddtime\r\n",
        "- This function is executed only when it is an odd second\r\n",
        "- Else does not execute\r\n",
        "\r\n",
        "# logger\r\n",
        "- This function logs all information of the decorator function\r\n",
        "- This function helps logs time,name and doctsring of the function\r\n",
        "\r\n",
        "# auth\r\n",
        "- This function is used to authenticate a users password\r\n",
        "- It takes the users password and checks with the current password given\r\n",
        "- Else raises value error\r\n",
        "\r\n",
        "# time_func\r\n",
        "- This function takes in integer as an input and calculates average time\r\n",
        "- It uses from time import perf_counter inside the timed function\r\n",
        "\r\n",
        "# access\r\n",
        "- This function checks access high,mid,low,no and has different privelages for each\r\n",
        "- Here dictionary = {1:('high','mid','low','no'),2:('mid','low','no'),3:('low','no'),4:('no')}\r\n",
        "- If no is the function name passed then the access is no else min/high/low\r\n",
        "\r\n",
        "# singledispatch\r\n",
        "- This decorator will transform your regular function into a single dispatch generic function\r\n",
        "- We use various functions such as:\r\n",
        "\r\n",
        "# htmlize\r\n",
        "- This function htmlizes the input based on its type\r\n",
        "\r\n",
        "# html_int\r\n",
        "- This function converts int in html format\r\n",
        "\r\n",
        "# html_real\r\n",
        "- This function converts real numbers to html format\r\n",
        "\r\n",
        "# html_str\r\n",
        "- This function converts string to html format\r\n",
        "\r\n",
        "# html_sequence\r\n",
        "- This function converts a sequence to html format\r\n",
        "\r\n",
        "# html_dict\r\n",
        "- This function converts dictionary in html format\r\n",
        "'''"
      ],
      "execution_count": null,
      "outputs": []
    },
    {
      "cell_type": "code",
      "metadata": {
        "id": "50t7SmK28dTc"
      },
      "source": [
        ""
      ],
      "execution_count": null,
      "outputs": []
    }
  ]
}