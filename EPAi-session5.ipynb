{
  "nbformat": 4,
  "nbformat_minor": 0,
  "metadata": {
    "colab": {
      "name": "Untitled40.ipynb",
      "provenance": [],
      "authorship_tag": "ABX9TyOOeO6mdVqAqy0TEwmUpea7",
      "include_colab_link": true
    },
    "kernelspec": {
      "name": "python3",
      "display_name": "Python 3"
    }
  },
  "cells": [
    {
      "cell_type": "markdown",
      "metadata": {
        "id": "view-in-github",
        "colab_type": "text"
      },
      "source": [
        "<a href=\"https://colab.research.google.com/github/Deeksha-Pandit/EPAi-session2/blob/main/EPAi-session5.ipynb\" target=\"_parent\"><img src=\"https://colab.research.google.com/assets/colab-badge.svg\" alt=\"Open In Colab\"/></a>"
      ]
    },
    {
      "cell_type": "code",
      "metadata": {
        "id": "AOSprmyvMIZE",
        "colab": {
          "base_uri": "https://localhost:8080/",
          "height": 132
        },
        "outputId": "5fc0e4c6-9a50-49cb-aa44-7ca73569c490"
      },
      "source": [
        "import time\r\n",
        "import math\r\n",
        "def time_it(fn, *args, repetitons= 1, **kwargs):\r\n",
        "  start1 = time.perf_counter()\r\n",
        "  \r\n",
        "\r\n",
        "  end1 = time.perf_counter()\r\n",
        "  delta1 = end1 - start1\r\n",
        "  print(delta1)"
      ],
      "execution_count": 93,
      "outputs": [
        {
          "output_type": "error",
          "ename": "IndentationError",
          "evalue": "ignored",
          "traceback": [
            "\u001b[0;36m  File \u001b[0;32m\"<ipython-input-93-c48b592c9d9b>\"\u001b[0;36m, line \u001b[0;32m7\u001b[0m\n\u001b[0;31m    elif fn.__name__ == 'polygon_area':\u001b[0m\n\u001b[0m       ^\u001b[0m\n\u001b[0;31mIndentationError\u001b[0m\u001b[0;31m:\u001b[0m expected an indented block\n"
          ]
        }
      ]
    },
    {
      "cell_type": "code",
      "metadata": {
        "id": "iZbzXuixQd4G",
        "colab": {
          "base_uri": "https://localhost:8080/"
        },
        "outputId": "ca82649d-3f54-4d11-c185-972155a9ac79"
      },
      "source": [
        "time_it(print_func, 1, 2, 3, sep='-', end= ' ***\\n', repetitons=5)"
      ],
      "execution_count": 112,
      "outputs": [
        {
          "output_type": "stream",
          "text": [
            "1-2-3 ***\n",
            "1-2-3 ***\n",
            "1-2-3 ***\n",
            "1-2-3 ***\n",
            "1-2-3 ***\n"
          ],
          "name": "stdout"
        },
        {
          "output_type": "execute_result",
          "data": {
            "text/plain": [
              "0.0003752499993424863"
            ]
          },
          "metadata": {
            "tags": []
          },
          "execution_count": 112
        }
      ]
    },
    {
      "cell_type": "code",
      "metadata": {
        "colab": {
          "base_uri": "https://localhost:8080/"
        },
        "id": "EScTyZEHSTDV",
        "outputId": "17dc88fb-dcb5-42e1-ea14-554e16dd590d"
      },
      "source": [
        "time_it(squared_power_list, 2, start=0, end=5, repetitons=5)"
      ],
      "execution_count": 92,
      "outputs": [
        {
          "output_type": "execute_result",
          "data": {
            "text/plain": [
              "2.8349997592158617e-06"
            ]
          },
          "metadata": {
            "tags": []
          },
          "execution_count": 92
        }
      ]
    },
    {
      "cell_type": "code",
      "metadata": {
        "colab": {
          "base_uri": "https://localhost:8080/"
        },
        "id": "NDhgjBvmPJ5n",
        "outputId": "e7d4f764-b3f4-4dd0-d20a-2310315200ea"
      },
      "source": [
        "time_it(polygon_area, 15, sides = 3, repetitons=10) "
      ],
      "execution_count": 102,
      "outputs": [
        {
          "output_type": "execute_result",
          "data": {
            "text/plain": [
              "4.1752999095479025e-06"
            ]
          },
          "metadata": {
            "tags": []
          },
          "execution_count": 102
        }
      ]
    },
    {
      "cell_type": "code",
      "metadata": {
        "colab": {
          "base_uri": "https://localhost:8080/"
        },
        "id": "tMZll-eIPJ2R",
        "outputId": "590f491b-fdd6-450b-9489-4755f5166514"
      },
      "source": [
        "time_it(temp_converter, 100, temp_given_in = 'f', repetitons=100)"
      ],
      "execution_count": 104,
      "outputs": [
        {
          "output_type": "execute_result",
          "data": {
            "text/plain": [
              "1.9445000361884014e-07"
            ]
          },
          "metadata": {
            "tags": []
          },
          "execution_count": 104
        }
      ]
    },
    {
      "cell_type": "code",
      "metadata": {
        "colab": {
          "base_uri": "https://localhost:8080/"
        },
        "id": "h0kKlGRUPJzx",
        "outputId": "ca46a439-ebc9-47be-f449-42f2561d6420"
      },
      "source": [
        "time_it(speed_converter, 100, dist='km', time='min', repetitons=200)"
      ],
      "execution_count": 109,
      "outputs": [
        {
          "output_type": "execute_result",
          "data": {
            "text/plain": [
              "2.756100002443418e-07"
            ]
          },
          "metadata": {
            "tags": []
          },
          "execution_count": 109
        }
      ]
    },
    {
      "cell_type": "code",
      "metadata": {
        "id": "MZ6Yr9c8PJxE"
      },
      "source": [
        ""
      ],
      "execution_count": null,
      "outputs": []
    },
    {
      "cell_type": "code",
      "metadata": {
        "colab": {
          "base_uri": "https://localhost:8080/"
        },
        "id": "fgGRzDjgsQJH",
        "outputId": "2eb7fbaa-edca-4504-aac4-e1962059fa72"
      },
      "source": [
        "def trial(a,*args,**kwargs):\r\n",
        "  print(a)\r\n",
        "  print(args)\r\n",
        "  print(kwargs)\r\n",
        "trial(1,2,3,m=5)"
      ],
      "execution_count": 33,
      "outputs": [
        {
          "output_type": "stream",
          "text": [
            "1\n",
            "(2, 3)\n",
            "{'m': 5}\n"
          ],
          "name": "stdout"
        }
      ]
    },
    {
      "cell_type": "code",
      "metadata": {
        "colab": {
          "base_uri": "https://localhost:8080/"
        },
        "id": "bYs0WtTTNPHY",
        "outputId": "4d46979a-c14d-4807-979b-369d4abd2eda"
      },
      "source": [
        "dir(squared_power_list)"
      ],
      "execution_count": 63,
      "outputs": [
        {
          "output_type": "execute_result",
          "data": {
            "text/plain": [
              "['__annotations__',\n",
              " '__call__',\n",
              " '__class__',\n",
              " '__closure__',\n",
              " '__code__',\n",
              " '__defaults__',\n",
              " '__delattr__',\n",
              " '__dict__',\n",
              " '__dir__',\n",
              " '__doc__',\n",
              " '__eq__',\n",
              " '__format__',\n",
              " '__ge__',\n",
              " '__get__',\n",
              " '__getattribute__',\n",
              " '__globals__',\n",
              " '__gt__',\n",
              " '__hash__',\n",
              " '__init__',\n",
              " '__init_subclass__',\n",
              " '__kwdefaults__',\n",
              " '__le__',\n",
              " '__lt__',\n",
              " '__module__',\n",
              " '__name__',\n",
              " '__ne__',\n",
              " '__new__',\n",
              " '__qualname__',\n",
              " '__reduce__',\n",
              " '__reduce_ex__',\n",
              " '__repr__',\n",
              " '__setattr__',\n",
              " '__sizeof__',\n",
              " '__str__',\n",
              " '__subclasshook__']"
            ]
          },
          "metadata": {
            "tags": []
          },
          "execution_count": 63
        }
      ]
    },
    {
      "cell_type": "code",
      "metadata": {
        "id": "zpamIq-LUdsM"
      },
      "source": [
        "import time\r\n",
        "import math\r\n",
        "def time_it(fn, *args, repetitons= 1, **kwargs):\r\n",
        "  if repetitons < 1:\r\n",
        "    raise ValueError(\"Cannot have negative repetitions!!!\")\r\n",
        "  start1 = time.perf_counter()\r\n",
        "  for i in range(repetitons):\r\n",
        "    return_value = fn(*args, **kwargs)\r\n",
        "  end1 = time.perf_counter()\r\n",
        "  delta1 = end1 - start1\r\n",
        "  return return_value, (delta1/repetitons)"
      ],
      "execution_count": 141,
      "outputs": []
    },
    {
      "cell_type": "code",
      "metadata": {
        "id": "qg2Rnc9o1cce"
      },
      "source": [
        "def print_func(*args,**kwargs):\r\n",
        "    print(*args,**kwargs)"
      ],
      "execution_count": 110,
      "outputs": []
    },
    {
      "cell_type": "code",
      "metadata": {
        "id": "YiHK4Ap_UdpT"
      },
      "source": [
        "def squared_power_list(num, start=0, end=5):\r\n",
        "  l = []\r\n",
        "  if start < 0:\r\n",
        "    raise ValueError(\"Cannot have negative values as power\")\r\n",
        "  for i in range(start, end+1):\r\n",
        "    res = num ** start\r\n",
        "    l.append(res)\r\n",
        "  print(l)\r\n",
        "  return l"
      ],
      "execution_count": 147,
      "outputs": []
    },
    {
      "cell_type": "code",
      "metadata": {
        "id": "RdQkYk3yUdmW"
      },
      "source": [
        "def polygon_area(len, sides):\r\n",
        "  if sides < 3 or sides > 6:\r\n",
        "    raise ValueError(\"Number of side must be between 3 and 6\")\r\n",
        "  if len < 0:\r\n",
        "    raise ValueError(\"Length of side must be positive\")\r\n",
        "  return sides * (len**2) / (4 * math.tan(math.pi/sides))"
      ],
      "execution_count": 101,
      "outputs": []
    },
    {
      "cell_type": "code",
      "metadata": {
        "id": "kGpJFYKBUdjf"
      },
      "source": [
        "def temp_converter(temp, temp_given_in):\r\n",
        "  if temp_given_in != 'f' or temp_given_in != 'c':\r\n",
        "    raise ValueError('Temperature must only be specified as \"f\" or \"c\"')\r\n",
        "  if temp_given_in == 'f':\r\n",
        "    return ((temp-32) * (5/9))\r\n",
        "  else:\r\n",
        "    return ((temp * 9/5) + 32)"
      ],
      "execution_count": 105,
      "outputs": []
    },
    {
      "cell_type": "code",
      "metadata": {
        "id": "sgGFOxKdUdgs"
      },
      "source": [
        "def speed_converter(speed=100, dist='km', time='min'):\r\n",
        "    if speed < 0:\r\n",
        "        raise ValueError('Speed cannot be lesser than zero')\r\n",
        "    if dist == 'km':\r\n",
        "        speed *= 1\r\n",
        "    elif dist == 'm':\r\n",
        "        speed *= 1000\r\n",
        "    elif dist == 'ft':\r\n",
        "        speed *= 3280.84\r\n",
        "    elif dist == 'yrd':\r\n",
        "        speed *= 1093.61\r\n",
        "\r\n",
        "    if time == 'hr':\r\n",
        "        speed /= 1\r\n",
        "    elif time == 'm':\r\n",
        "        speed /= 60\r\n",
        "    elif time == 's':\r\n",
        "        speed /= 3600\r\n",
        "    elif time == 'ms':\r\n",
        "        speed /= 3600000\r\n",
        "    elif time == 'day':\r\n",
        "        speed *= 24\r\n",
        "\r\n",
        "    return speed"
      ],
      "execution_count": 106,
      "outputs": []
    },
    {
      "cell_type": "code",
      "metadata": {
        "id": "Wnh0Kmnb1Xgi"
      },
      "source": [
        "import pytest"
      ],
      "execution_count": 116,
      "outputs": []
    },
    {
      "cell_type": "code",
      "metadata": {
        "id": "dr9vVtFz1XdT"
      },
      "source": [
        "def test_repitions_error():\r\n",
        "  with pytest.raises(ValueError):\r\n",
        "    time_it(print,1,2,3, sep='-', end= ' ***\\n', repetitons=0)\r\n",
        "test_repitions_error()"
      ],
      "execution_count": 117,
      "outputs": []
    },
    {
      "cell_type": "code",
      "metadata": {
        "colab": {
          "base_uri": "https://localhost:8080/",
          "height": 398
        },
        "id": "gFVj1VXz1XaE",
        "outputId": "f367ce98-15d3-48ef-def8-3723ae11660e"
      },
      "source": [
        "def test_print_func():\r\n",
        "  assert print(1,2,3, sep='-', end= ' ***\\n') == time_it(print_func,1,2,3, sep='-', end= ' ***\\n', repetitons=5), f'You do not know how to print :('\r\n",
        "test_print_func()"
      ],
      "execution_count": 126,
      "outputs": [
        {
          "output_type": "stream",
          "text": [
            "1-2-3 ***\n",
            "1-2-3 ***\n",
            "1-2-3 ***\n",
            "1-2-3 ***\n",
            "1-2-3 ***\n",
            "1-2-3 ***\n"
          ],
          "name": "stdout"
        },
        {
          "output_type": "error",
          "ename": "AssertionError",
          "evalue": "ignored",
          "traceback": [
            "\u001b[0;31m---------------------------------------------------------------------------\u001b[0m",
            "\u001b[0;31mAssertionError\u001b[0m                            Traceback (most recent call last)",
            "\u001b[0;32m<ipython-input-126-9efa6f53c158>\u001b[0m in \u001b[0;36m<module>\u001b[0;34m()\u001b[0m\n\u001b[1;32m      1\u001b[0m \u001b[0;32mdef\u001b[0m \u001b[0mtest_print_func\u001b[0m\u001b[0;34m(\u001b[0m\u001b[0;34m)\u001b[0m\u001b[0;34m:\u001b[0m\u001b[0;34m\u001b[0m\u001b[0;34m\u001b[0m\u001b[0m\n\u001b[1;32m      2\u001b[0m   \u001b[0;32massert\u001b[0m \u001b[0mprint\u001b[0m\u001b[0;34m(\u001b[0m\u001b[0;36m1\u001b[0m\u001b[0;34m,\u001b[0m\u001b[0;36m2\u001b[0m\u001b[0;34m,\u001b[0m\u001b[0;36m3\u001b[0m\u001b[0;34m,\u001b[0m \u001b[0msep\u001b[0m\u001b[0;34m=\u001b[0m\u001b[0;34m'-'\u001b[0m\u001b[0;34m,\u001b[0m \u001b[0mend\u001b[0m\u001b[0;34m=\u001b[0m \u001b[0;34m' ***\\n'\u001b[0m\u001b[0;34m)\u001b[0m \u001b[0;34m==\u001b[0m \u001b[0mtime_it\u001b[0m\u001b[0;34m(\u001b[0m\u001b[0mprint_func\u001b[0m\u001b[0;34m,\u001b[0m\u001b[0;36m1\u001b[0m\u001b[0;34m,\u001b[0m\u001b[0;36m2\u001b[0m\u001b[0;34m,\u001b[0m\u001b[0;36m3\u001b[0m\u001b[0;34m,\u001b[0m \u001b[0msep\u001b[0m\u001b[0;34m=\u001b[0m\u001b[0;34m'-'\u001b[0m\u001b[0;34m,\u001b[0m \u001b[0mend\u001b[0m\u001b[0;34m=\u001b[0m \u001b[0;34m' ***\\n'\u001b[0m\u001b[0;34m,\u001b[0m \u001b[0mrepetitons\u001b[0m\u001b[0;34m=\u001b[0m\u001b[0;36m5\u001b[0m\u001b[0;34m)\u001b[0m\u001b[0;34m,\u001b[0m \u001b[0;34mf'You do not know how to print :('\u001b[0m\u001b[0;34m\u001b[0m\u001b[0;34m\u001b[0m\u001b[0m\n\u001b[0;32m----> 3\u001b[0;31m \u001b[0mtest_print_func\u001b[0m\u001b[0;34m(\u001b[0m\u001b[0;34m)\u001b[0m\u001b[0;34m\u001b[0m\u001b[0;34m\u001b[0m\u001b[0m\n\u001b[0m",
            "\u001b[0;32m<ipython-input-126-9efa6f53c158>\u001b[0m in \u001b[0;36mtest_print_func\u001b[0;34m()\u001b[0m\n\u001b[1;32m      1\u001b[0m \u001b[0;32mdef\u001b[0m \u001b[0mtest_print_func\u001b[0m\u001b[0;34m(\u001b[0m\u001b[0;34m)\u001b[0m\u001b[0;34m:\u001b[0m\u001b[0;34m\u001b[0m\u001b[0;34m\u001b[0m\u001b[0m\n\u001b[0;32m----> 2\u001b[0;31m   \u001b[0;32massert\u001b[0m \u001b[0mprint\u001b[0m\u001b[0;34m(\u001b[0m\u001b[0;36m1\u001b[0m\u001b[0;34m,\u001b[0m\u001b[0;36m2\u001b[0m\u001b[0;34m,\u001b[0m\u001b[0;36m3\u001b[0m\u001b[0;34m,\u001b[0m \u001b[0msep\u001b[0m\u001b[0;34m=\u001b[0m\u001b[0;34m'-'\u001b[0m\u001b[0;34m,\u001b[0m \u001b[0mend\u001b[0m\u001b[0;34m=\u001b[0m \u001b[0;34m' ***\\n'\u001b[0m\u001b[0;34m)\u001b[0m \u001b[0;34m==\u001b[0m \u001b[0mtime_it\u001b[0m\u001b[0;34m(\u001b[0m\u001b[0mprint_func\u001b[0m\u001b[0;34m,\u001b[0m\u001b[0;36m1\u001b[0m\u001b[0;34m,\u001b[0m\u001b[0;36m2\u001b[0m\u001b[0;34m,\u001b[0m\u001b[0;36m3\u001b[0m\u001b[0;34m,\u001b[0m \u001b[0msep\u001b[0m\u001b[0;34m=\u001b[0m\u001b[0;34m'-'\u001b[0m\u001b[0;34m,\u001b[0m \u001b[0mend\u001b[0m\u001b[0;34m=\u001b[0m \u001b[0;34m' ***\\n'\u001b[0m\u001b[0;34m,\u001b[0m \u001b[0mrepetitons\u001b[0m\u001b[0;34m=\u001b[0m\u001b[0;36m5\u001b[0m\u001b[0;34m)\u001b[0m\u001b[0;34m,\u001b[0m \u001b[0;34mf'You do not know how to print :('\u001b[0m\u001b[0;34m\u001b[0m\u001b[0;34m\u001b[0m\u001b[0m\n\u001b[0m\u001b[1;32m      3\u001b[0m \u001b[0mtest_print_func\u001b[0m\u001b[0;34m(\u001b[0m\u001b[0;34m)\u001b[0m\u001b[0;34m\u001b[0m\u001b[0;34m\u001b[0m\u001b[0m\n",
            "\u001b[0;31mAssertionError\u001b[0m: You do not know how to print :("
          ]
        }
      ]
    },
    {
      "cell_type": "code",
      "metadata": {
        "id": "o9JygKD71XXP"
      },
      "source": [
        "def test_squared_power_list_error():\r\n",
        "  with pytest.raises(ValueError):\r\n",
        "    time_it(squared_power_list,2, start=-5, end=5, repetitons=5)\r\n",
        "test_squared_power_list_error()"
      ],
      "execution_count": 128,
      "outputs": []
    },
    {
      "cell_type": "code",
      "metadata": {
        "colab": {
          "base_uri": "https://localhost:8080/",
          "height": 505
        },
        "id": "-fwJK5xy5Lbg",
        "outputId": "847eb0e8-19d0-4833-c305-d5d7dac06e50"
      },
      "source": [
        "def test_squared_power_list():\r\n",
        "  print(time_it(squared_power_list, 2, start=0, end=5, repetitons=5)[0])\r\n",
        "  assert [2**x for x in range(0,6)] == time_it(squared_power_list, 2, start=0, end=5, repetitons=5)[0], f\"Squaring gone wrong\"\r\n",
        "test_squared_power_list()"
      ],
      "execution_count": 149,
      "outputs": [
        {
          "output_type": "stream",
          "text": [
            "[1, 1, 1, 1, 1, 1]\n",
            "[1, 1, 1, 1, 1, 1]\n",
            "[1, 1, 1, 1, 1, 1]\n",
            "[1, 1, 1, 1, 1, 1]\n",
            "[1, 1, 1, 1, 1, 1]\n",
            "[1, 1, 1, 1, 1, 1]\n",
            "[1, 1, 1, 1, 1, 1]\n",
            "[1, 1, 1, 1, 1, 1]\n",
            "[1, 1, 1, 1, 1, 1]\n",
            "[1, 1, 1, 1, 1, 1]\n",
            "[1, 1, 1, 1, 1, 1]\n"
          ],
          "name": "stdout"
        },
        {
          "output_type": "error",
          "ename": "AssertionError",
          "evalue": "ignored",
          "traceback": [
            "\u001b[0;31m---------------------------------------------------------------------------\u001b[0m",
            "\u001b[0;31mAssertionError\u001b[0m                            Traceback (most recent call last)",
            "\u001b[0;32m<ipython-input-149-731caff1ed0f>\u001b[0m in \u001b[0;36m<module>\u001b[0;34m()\u001b[0m\n\u001b[1;32m      2\u001b[0m   \u001b[0mprint\u001b[0m\u001b[0;34m(\u001b[0m\u001b[0mtime_it\u001b[0m\u001b[0;34m(\u001b[0m\u001b[0msquared_power_list\u001b[0m\u001b[0;34m,\u001b[0m \u001b[0;36m2\u001b[0m\u001b[0;34m,\u001b[0m \u001b[0mstart\u001b[0m\u001b[0;34m=\u001b[0m\u001b[0;36m0\u001b[0m\u001b[0;34m,\u001b[0m \u001b[0mend\u001b[0m\u001b[0;34m=\u001b[0m\u001b[0;36m5\u001b[0m\u001b[0;34m,\u001b[0m \u001b[0mrepetitons\u001b[0m\u001b[0;34m=\u001b[0m\u001b[0;36m5\u001b[0m\u001b[0;34m)\u001b[0m\u001b[0;34m[\u001b[0m\u001b[0;36m0\u001b[0m\u001b[0;34m]\u001b[0m\u001b[0;34m)\u001b[0m\u001b[0;34m\u001b[0m\u001b[0;34m\u001b[0m\u001b[0m\n\u001b[1;32m      3\u001b[0m   \u001b[0;32massert\u001b[0m \u001b[0;34m[\u001b[0m\u001b[0;36m2\u001b[0m\u001b[0;34m**\u001b[0m\u001b[0mx\u001b[0m \u001b[0;32mfor\u001b[0m \u001b[0mx\u001b[0m \u001b[0;32min\u001b[0m \u001b[0mrange\u001b[0m\u001b[0;34m(\u001b[0m\u001b[0;36m0\u001b[0m\u001b[0;34m,\u001b[0m\u001b[0;36m6\u001b[0m\u001b[0;34m)\u001b[0m\u001b[0;34m]\u001b[0m \u001b[0;34m==\u001b[0m \u001b[0mtime_it\u001b[0m\u001b[0;34m(\u001b[0m\u001b[0msquared_power_list\u001b[0m\u001b[0;34m,\u001b[0m \u001b[0;36m2\u001b[0m\u001b[0;34m,\u001b[0m \u001b[0mstart\u001b[0m\u001b[0;34m=\u001b[0m\u001b[0;36m0\u001b[0m\u001b[0;34m,\u001b[0m \u001b[0mend\u001b[0m\u001b[0;34m=\u001b[0m\u001b[0;36m5\u001b[0m\u001b[0;34m,\u001b[0m \u001b[0mrepetitons\u001b[0m\u001b[0;34m=\u001b[0m\u001b[0;36m5\u001b[0m\u001b[0;34m)\u001b[0m\u001b[0;34m[\u001b[0m\u001b[0;36m0\u001b[0m\u001b[0;34m]\u001b[0m\u001b[0;34m,\u001b[0m \u001b[0;34mf\"Squaring gone wrong\"\u001b[0m\u001b[0;34m\u001b[0m\u001b[0;34m\u001b[0m\u001b[0m\n\u001b[0;32m----> 4\u001b[0;31m \u001b[0mtest_squared_power_list\u001b[0m\u001b[0;34m(\u001b[0m\u001b[0;34m)\u001b[0m\u001b[0;34m\u001b[0m\u001b[0;34m\u001b[0m\u001b[0m\n\u001b[0m",
            "\u001b[0;32m<ipython-input-149-731caff1ed0f>\u001b[0m in \u001b[0;36mtest_squared_power_list\u001b[0;34m()\u001b[0m\n\u001b[1;32m      1\u001b[0m \u001b[0;32mdef\u001b[0m \u001b[0mtest_squared_power_list\u001b[0m\u001b[0;34m(\u001b[0m\u001b[0;34m)\u001b[0m\u001b[0;34m:\u001b[0m\u001b[0;34m\u001b[0m\u001b[0;34m\u001b[0m\u001b[0m\n\u001b[1;32m      2\u001b[0m   \u001b[0mprint\u001b[0m\u001b[0;34m(\u001b[0m\u001b[0mtime_it\u001b[0m\u001b[0;34m(\u001b[0m\u001b[0msquared_power_list\u001b[0m\u001b[0;34m,\u001b[0m \u001b[0;36m2\u001b[0m\u001b[0;34m,\u001b[0m \u001b[0mstart\u001b[0m\u001b[0;34m=\u001b[0m\u001b[0;36m0\u001b[0m\u001b[0;34m,\u001b[0m \u001b[0mend\u001b[0m\u001b[0;34m=\u001b[0m\u001b[0;36m5\u001b[0m\u001b[0;34m,\u001b[0m \u001b[0mrepetitons\u001b[0m\u001b[0;34m=\u001b[0m\u001b[0;36m5\u001b[0m\u001b[0;34m)\u001b[0m\u001b[0;34m[\u001b[0m\u001b[0;36m0\u001b[0m\u001b[0;34m]\u001b[0m\u001b[0;34m)\u001b[0m\u001b[0;34m\u001b[0m\u001b[0;34m\u001b[0m\u001b[0m\n\u001b[0;32m----> 3\u001b[0;31m   \u001b[0;32massert\u001b[0m \u001b[0;34m[\u001b[0m\u001b[0;36m2\u001b[0m\u001b[0;34m**\u001b[0m\u001b[0mx\u001b[0m \u001b[0;32mfor\u001b[0m \u001b[0mx\u001b[0m \u001b[0;32min\u001b[0m \u001b[0mrange\u001b[0m\u001b[0;34m(\u001b[0m\u001b[0;36m0\u001b[0m\u001b[0;34m,\u001b[0m\u001b[0;36m6\u001b[0m\u001b[0;34m)\u001b[0m\u001b[0;34m]\u001b[0m \u001b[0;34m==\u001b[0m \u001b[0mtime_it\u001b[0m\u001b[0;34m(\u001b[0m\u001b[0msquared_power_list\u001b[0m\u001b[0;34m,\u001b[0m \u001b[0;36m2\u001b[0m\u001b[0;34m,\u001b[0m \u001b[0mstart\u001b[0m\u001b[0;34m=\u001b[0m\u001b[0;36m0\u001b[0m\u001b[0;34m,\u001b[0m \u001b[0mend\u001b[0m\u001b[0;34m=\u001b[0m\u001b[0;36m5\u001b[0m\u001b[0;34m,\u001b[0m \u001b[0mrepetitons\u001b[0m\u001b[0;34m=\u001b[0m\u001b[0;36m5\u001b[0m\u001b[0;34m)\u001b[0m\u001b[0;34m[\u001b[0m\u001b[0;36m0\u001b[0m\u001b[0;34m]\u001b[0m\u001b[0;34m,\u001b[0m \u001b[0;34mf\"Squaring gone wrong\"\u001b[0m\u001b[0;34m\u001b[0m\u001b[0;34m\u001b[0m\u001b[0m\n\u001b[0m\u001b[1;32m      4\u001b[0m \u001b[0mtest_squared_power_list\u001b[0m\u001b[0;34m(\u001b[0m\u001b[0;34m)\u001b[0m\u001b[0;34m\u001b[0m\u001b[0;34m\u001b[0m\u001b[0m\n",
            "\u001b[0;31mAssertionError\u001b[0m: Squaring gone wrong"
          ]
        }
      ]
    }
  ]
}