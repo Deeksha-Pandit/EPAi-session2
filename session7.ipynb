{
  "nbformat": 4,
  "nbformat_minor": 0,
  "metadata": {
    "colab": {
      "name": "session7.ipynb",
      "provenance": [],
      "authorship_tag": "ABX9TyMR5mEon6uTd4RRor91XwYt",
      "include_colab_link": true
    },
    "kernelspec": {
      "name": "python3",
      "display_name": "Python 3"
    }
  },
  "cells": [
    {
      "cell_type": "markdown",
      "metadata": {
        "id": "view-in-github",
        "colab_type": "text"
      },
      "source": [
        "<a href=\"https://colab.research.google.com/github/Deeksha-Pandit/EPAi-session2/blob/main/session7.ipynb\" target=\"_parent\"><img src=\"https://colab.research.google.com/assets/colab-badge.svg\" alt=\"Open In Colab\"/></a>"
      ]
    },
    {
      "cell_type": "code",
      "metadata": {
        "id": "Qq1fVM_e7Pv6"
      },
      "source": [
        "import math\r\n",
        "import operator\r\n",
        "from functools import reduce,partial"
      ],
      "execution_count": 1,
      "outputs": []
    },
    {
      "cell_type": "code",
      "metadata": {
        "id": "EyqU_zxi7Psl"
      },
      "source": [
        "def fibo(n):\r\n",
        "    '''\r\n",
        "    This function checks if an input number is a fibonacci number or not\r\n",
        "    A number is Fibonacci if and only if one or both of (5*n2 + 4) or (5*n2 – 4) is a perfect square\r\n",
        "    Input: An integer number\r\n",
        "    Output: Boolean result stating if the number is fibonacci or not\r\n",
        "    '''\r\n",
        "    return bool(list(filter(lambda x: math.sqrt(x) * math.sqrt(x) == x, (5*n**2 + 4, 5*n**2 - 4))))\r\n",
        "  \r\n",
        "#fibo(6)"
      ],
      "execution_count": 5,
      "outputs": []
    },
    {
      "cell_type": "code",
      "metadata": {
        "id": "RP-bL7tvaeoV"
      },
      "source": [
        "def test_fibo():\r\n",
        "    fibo_list = [1,2,3,5,8,13,21,34,55]\r\n",
        "    for i in fibo_list:\r\n",
        "        assert fibo(i) == True , \"Fibonacci gone wrong!!!\"\r\n",
        "test_fibo()"
      ],
      "execution_count": 6,
      "outputs": []
    },
    {
      "cell_type": "code",
      "metadata": {
        "id": "WQkZ4sOeLYk5"
      },
      "source": [
        "def add_even_odd(l1,l2):\r\n",
        "    '''\r\n",
        "    This function takes an even number from list1 and adds it to an odd number from list2\r\n",
        "    Input: Two lists containing integer elements\r\n",
        "    Output: List of added elements\r\n",
        "    '''\r\n",
        "    return [x+y for x,y in zip(l1,l2) if ((x%2==0) and (y%2!=0))]\r\n",
        "#add_even_odd(l1,l2)"
      ],
      "execution_count": 7,
      "outputs": []
    },
    {
      "cell_type": "code",
      "metadata": {
        "id": "tQbFi7-9btEf"
      },
      "source": [
        "def test_add_even_odd_1():\r\n",
        "    l1 = [1,2,3,4]\r\n",
        "    l2 = [11,21,31,41]\r\n",
        "    assert add_even_odd(l1,l2) == [23,45], \"Please add the evens and odds correctly\"\r\n",
        "test_add_even_odd_1()"
      ],
      "execution_count": 10,
      "outputs": []
    },
    {
      "cell_type": "code",
      "metadata": {
        "id": "u4nnlC-DcL7x"
      },
      "source": [
        "def test_add_even_odd_2():\r\n",
        "    l1 = [1,2,3,4]\r\n",
        "    l2 = [11,20,31,40]\r\n",
        "    assert add_even_odd(l1,l2) == [], \"Please add the evens and odds correctly\"\r\n",
        "test_add_even_odd_2()"
      ],
      "execution_count": 12,
      "outputs": []
    },
    {
      "cell_type": "code",
      "metadata": {
        "id": "21CkQ4CFchha"
      },
      "source": [
        "def test_add_even_odd_3():\r\n",
        "    l1 = [10,2,30,4]\r\n",
        "    l2 = [1,21,3,41]\r\n",
        "    assert add_even_odd(l1,l2) == [11,23,33,45], \"Please add the evens and odds correctly\"\r\n",
        "test_add_even_odd_3()"
      ],
      "execution_count": 13,
      "outputs": []
    },
    {
      "cell_type": "code",
      "metadata": {
        "id": "Ek7D8wIgR26u"
      },
      "source": [
        "def remove_vowels(str_):\r\n",
        "    '''\r\n",
        "    This function removes all vowels from a given string \r\n",
        "    Input: A string\r\n",
        "    Output: A list of characters without vowels\r\n",
        "    '''\r\n",
        "    vowels = ['a','e','i','o','u','A','E','I','O','U']\r\n",
        "    return [x for x in str_ if x not in vowels]\r\n",
        "#remove_vowels('tsai')"
      ],
      "execution_count": 24,
      "outputs": []
    },
    {
      "cell_type": "code",
      "metadata": {
        "id": "y7yNRX0fc1Y0"
      },
      "source": [
        "def test_remove_vowels():\r\n",
        "    assert remove_vowels('tsai') == ['t','s'], \"Remove all vowels in the string\"\r\n",
        "test_remove_vowels()"
      ],
      "execution_count": 23,
      "outputs": []
    },
    {
      "cell_type": "code",
      "metadata": {
        "id": "f8pY5stTR23X"
      },
      "source": [
        "def relu_func(relu_list):\r\n",
        "    '''\r\n",
        "    This function takes a list as input and converts all negative values to 0 and keeps all positive values as it is\r\n",
        "    Input: A list\r\n",
        "    Output: List after ReLu function is applied\r\n",
        "    '''\r\n",
        "    #relu_list = [-2,3,-7,8,9,1.5,-1.8]\r\n",
        "    return [relu if relu >= 0 else 0 for relu in relu_list]"
      ],
      "execution_count": 27,
      "outputs": []
    },
    {
      "cell_type": "code",
      "metadata": {
        "id": "xhCnbDLenbwn"
      },
      "source": [
        "def test_relu_func():\r\n",
        "    relu_list = [-2,3,-7,8,9,1,-1]\r\n",
        "    assert relu_func(relu_list) == [0,3,0,8,9,1,0], \"ReLu function gone wrong...\"\r\n",
        "test_relu_func()"
      ],
      "execution_count": 28,
      "outputs": []
    },
    {
      "cell_type": "code",
      "metadata": {
        "id": "En6QBbd-R202"
      },
      "source": [
        "def sigmoid(s):\r\n",
        "    '''\r\n",
        "    This function calculates sigmoid using the formula 1/1+exp(-s)\r\n",
        "    Input: s is a real number\r\n",
        "    Output: Calculates the sigmoid and returns the value\r\n",
        "    '''\r\n",
        "    return [1/1+math.exp(-s) if isinstance(s,int) or isinstance(s,float) else 0]\r\n",
        "#sigmoid(1.5)"
      ],
      "execution_count": 32,
      "outputs": []
    },
    {
      "cell_type": "code",
      "metadata": {
        "id": "iRLJ1Ro3pFRy"
      },
      "source": [
        "def test_sigmoid():\r\n",
        "    s = 1.5\r\n",
        "    assert sigmoid(1.5) == [1/1+math.exp(-1.5)], \"Sigmoid function gone wrong...\"\r\n",
        "test_sigmoid()"
      ],
      "execution_count": 33,
      "outputs": []
    },
    {
      "cell_type": "code",
      "metadata": {
        "colab": {
          "base_uri": "https://localhost:8080/"
        },
        "id": "4p_ddgiD7Pnc",
        "outputId": "17b9a06a-8e99-4fa3-f637-7b73fd5a41fe"
      },
      "source": [
        "def shift_char(a):\r\n",
        "    '''\r\n",
        "    This function sifts each character by 5 and returns a list of characters. Handles boundary conditions such as 'z' etc\r\n",
        "    Input: A string\r\n",
        "    Output: A list with each character incremented by 5\r\n",
        "    '''\r\n",
        "    return [chr(ord(x)-26+5) if ord(x) >116 else chr(ord(x)+5) for x in a]\r\n",
        "#shift_char('xyz')"
      ],
      "execution_count": 35,
      "outputs": [
        {
          "output_type": "execute_result",
          "data": {
            "text/plain": [
              "['c', 'd', 'e']"
            ]
          },
          "metadata": {
            "tags": []
          },
          "execution_count": 35
        }
      ]
    },
    {
      "cell_type": "code",
      "metadata": {
        "id": "kEjawRPapxlR"
      },
      "source": [
        "def test_shift_char_1():\r\n",
        "    assert shift_char('tsai') == ['y','x','f','n'], \"Please shift each character by 5 steps\"\r\n",
        "test_shift_char_1()"
      ],
      "execution_count": 36,
      "outputs": []
    },
    {
      "cell_type": "code",
      "metadata": {
        "id": "IRkRl1LnqexC"
      },
      "source": [
        "def test_shift_char_2():\r\n",
        "    assert shift_char('xyz') == ['c','d','e'], \"Please shift each character by 5 steps\"\r\n",
        "test_shift_char_2()"
      ],
      "execution_count": 37,
      "outputs": []
    },
    {
      "cell_type": "code",
      "metadata": {
        "id": "uvJ283jh5k0P"
      },
      "source": [
        "def swear_words_filter(para):\r\n",
        "    '''\r\n",
        "    This function takes the list swear and compares with a paragraph. If the paragram contains any of the swear words it return True else returns False\r\n",
        "    Input: paragraph string\r\n",
        "    Output: Boolean value\r\n",
        "    '''\r\n",
        "    swear = ['4r5e',\r\n",
        "    '5h1t',\r\n",
        "    '5hit',\r\n",
        "    'a55',\r\n",
        "    'anal',\r\n",
        "    'anus',\r\n",
        "    'ar5e',\r\n",
        "    'arrse',\r\n",
        "    'arse',\r\n",
        "    'ass',\r\n",
        "    'ass-fucker',\r\n",
        "    'asses',\r\n",
        "    'assfucker',\r\n",
        "    'assfukka',\r\n",
        "    'asshole',\r\n",
        "    'assholes',\r\n",
        "    'asswhole',\r\n",
        "    'a_s_s',\r\n",
        "    'b!tch',\r\n",
        "    'b00bs',\r\n",
        "    'b17ch',\r\n",
        "    'b1tch',\r\n",
        "    'ballbag',\r\n",
        "    'balls',\r\n",
        "    'ballsack',\r\n",
        "    'bastard',\r\n",
        "    'beastial',\r\n",
        "    'beastiality',\r\n",
        "    'bellend',\r\n",
        "    'bestial',\r\n",
        "    'bestiality',\r\n",
        "    'bi+ch',\r\n",
        "    'biatch',\r\n",
        "    'bitch',\r\n",
        "    'bitcher',\r\n",
        "    'bitchers',\r\n",
        "    'bitches',\r\n",
        "    'bitchin',\r\n",
        "    'bitching',\r\n",
        "    'bloody',\r\n",
        "    'blow',\r\n",
        "    'job',\r\n",
        "    'blowjob',\r\n",
        "    'blowjobs',\r\n",
        "    'boiolas',\r\n",
        "    'bollock',\r\n",
        "    'bollok',\r\n",
        "    'boner',\r\n",
        "    'boob',\r\n",
        "    'boobs',\r\n",
        "    'booobs',\r\n",
        "    'boooobs',\r\n",
        "    'booooobs',\r\n",
        "    'booooooobs',\r\n",
        "    'breasts',\r\n",
        "    'buceta',\r\n",
        "    'bugger',\r\n",
        "    'bum',\r\n",
        "    'bunny',\r\n",
        "    'fucker',\r\n",
        "    'butt',\r\n",
        "    'butthole',\r\n",
        "    'buttmunch',\r\n",
        "    'buttplug',\r\n",
        "    'c0ck',\r\n",
        "    'c0cksucker',\r\n",
        "    'carpet',\r\n",
        "    'muncher',\r\n",
        "    'cawk',\r\n",
        "    'chink',\r\n",
        "    'cipa',\r\n",
        "    'cl1t',\r\n",
        "    'clit',\r\n",
        "    'clitoris',\r\n",
        "    'clits',\r\n",
        "    'cnut',\r\n",
        "    'cock',\r\n",
        "    'cock-sucker',\r\n",
        "    'cockface',\r\n",
        "    'cockhead',\r\n",
        "    'cockmunch',\r\n",
        "    'cockmuncher',\r\n",
        "    'cocks',\r\n",
        "    'cocksuck',\r\n",
        "    'cocksucked',\r\n",
        "    'cocksucker',\r\n",
        "    'cocksucking',\r\n",
        "    'cocksucks',\r\n",
        "    'cocksuka',\r\n",
        "    'cocksukka',\r\n",
        "    'cok',\r\n",
        "    'cokmuncher',\r\n",
        "    'coksucka',\r\n",
        "    'coon',\r\n",
        "    'cox',\r\n",
        "    'crap',\r\n",
        "    'cum',\r\n",
        "    'cummer',\r\n",
        "    'cumming',\r\n",
        "    'cums',\r\n",
        "    'cumshot',\r\n",
        "    'cunilingus',\r\n",
        "    'cunillingus',\r\n",
        "    'cunnilingus',\r\n",
        "    'cunt',\r\n",
        "    'cuntlick',\r\n",
        "    'cuntlicker',\r\n",
        "    'cuntlicking',\r\n",
        "    'cunts',\r\n",
        "    'cyalis',\r\n",
        "    'cyberfuc',\r\n",
        "    'cyberfuck',\r\n",
        "    'cyberfucked',\r\n",
        "    'cyberfucker',\r\n",
        "    'cyberfuckers',\r\n",
        "    'cyberfucking',\r\n",
        "    'd1ck',\r\n",
        "    'damn',\r\n",
        "    'dick',\r\n",
        "    'dickhead',\r\n",
        "    'dildo',\r\n",
        "    'dildos',\r\n",
        "    'dink',\r\n",
        "    'dinks',\r\n",
        "    'dirsa',\r\n",
        "    'dlck',\r\n",
        "    'dog-fucker',\r\n",
        "    'doggin',\r\n",
        "    'dogging',\r\n",
        "    'donkeyribber',\r\n",
        "    'doosh',\r\n",
        "    'duche',\r\n",
        "    'dyke',\r\n",
        "    'ejaculate',\r\n",
        "    'ejaculated',\r\n",
        "    'ejaculates',\r\n",
        "    'ejaculating',\r\n",
        "    'ejaculatings',\r\n",
        "    'ejaculation',\r\n",
        "    'ejakulate',\r\n",
        "    'fucker',\r\n",
        "    'fuck',\r\n",
        "    'f4nny',\r\n",
        "    'fag',\r\n",
        "    'fagging',\r\n",
        "    'faggitt',\r\n",
        "    'faggot',\r\n",
        "    'faggs',\r\n",
        "    'fagot',\r\n",
        "    'fagots',\r\n",
        "    'fags',\r\n",
        "    'fanny',\r\n",
        "    'fannyflaps',\r\n",
        "    'fannyfucker',\r\n",
        "    'fanyy',\r\n",
        "    'fatass',\r\n",
        "    'fcuk',\r\n",
        "    'fcuker',\r\n",
        "    'fcuking',\r\n",
        "    'feck',\r\n",
        "    'fecker',\r\n",
        "    'felching',\r\n",
        "    'fellate',\r\n",
        "    'fellatio',\r\n",
        "    'fingerfuck',\r\n",
        "    'fingerfucked',\r\n",
        "    'fingerfucker',\r\n",
        "    'fingerfuckers',\r\n",
        "    'fingerfucking',\r\n",
        "    'fingerfucks',\r\n",
        "    'fistfuck',\r\n",
        "    'fistfucked',\r\n",
        "    'fistfucker',\r\n",
        "    'fistfuckers',\r\n",
        "    'fistfucking',\r\n",
        "    'fistfuckings',\r\n",
        "    'fistfucks',\r\n",
        "    'flange',\r\n",
        "    'fook',\r\n",
        "    'fooker',\r\n",
        "    'fuck',\r\n",
        "    'fucka',\r\n",
        "    'fucked',\r\n",
        "    'fucker',\r\n",
        "    'fuckers',\r\n",
        "    'fuckhead',\r\n",
        "    'fuckheads',\r\n",
        "    'fuckin',\r\n",
        "    'fucking',\r\n",
        "    'fuckings',\r\n",
        "    'fuckingshitmotherfucker',\r\n",
        "    'fuckme',\r\n",
        "    'fucks',\r\n",
        "    'fuckwhit',\r\n",
        "    'fuckwit',\r\n",
        "    'fudge',\r\n",
        "    'packer',\r\n",
        "    'fudgepacker',\r\n",
        "    'fuk',\r\n",
        "    'fuker',\r\n",
        "    'fukker',\r\n",
        "    'fukkin',\r\n",
        "    'fuks',\r\n",
        "    'fukwhit',\r\n",
        "    'fukwit',\r\n",
        "    'fux',\r\n",
        "    'fux0r',\r\n",
        "    'f_u_c_k',\r\n",
        "    'gangbang',\r\n",
        "    'gangbanged',\r\n",
        "    'gangbangs',\r\n",
        "    'gaylord',\r\n",
        "    'gaysex',\r\n",
        "    'goatse',\r\n",
        "    'God',\r\n",
        "    'god-dam',\r\n",
        "    'god-damned',\r\n",
        "    'goddamn',\r\n",
        "    'goddamned',\r\n",
        "    'hardcoresex',\r\n",
        "    'hell',\r\n",
        "    'heshe',\r\n",
        "    'hoar',\r\n",
        "    'hoare',\r\n",
        "    'hoer',\r\n",
        "    'homo',\r\n",
        "    'hore',\r\n",
        "    'horniest',\r\n",
        "    'horny',\r\n",
        "    'hotsex',\r\n",
        "    'jack-off',\r\n",
        "    'jackoff',\r\n",
        "    'jap',\r\n",
        "    'jerk-off',\r\n",
        "    'jism',\r\n",
        "    'jiz',\r\n",
        "    'jizm',\r\n",
        "    'jizz',\r\n",
        "    'kawk',\r\n",
        "    'knob',\r\n",
        "    'knobead',\r\n",
        "    'knobed',\r\n",
        "    'knobend',\r\n",
        "    'knobhead',\r\n",
        "    'knobjocky',\r\n",
        "    'knobjokey',\r\n",
        "    'kock',\r\n",
        "    'kondum',\r\n",
        "    'kondums',\r\n",
        "    'kum',\r\n",
        "    'kummer',\r\n",
        "    'kumming',\r\n",
        "    'kums',\r\n",
        "    'kunilingus',\r\n",
        "    'l3i+ch',\r\n",
        "    'l3itch',\r\n",
        "    'labia',\r\n",
        "    'lmfao',\r\n",
        "    'lust',\r\n",
        "    'lusting',\r\n",
        "    'm0f0',\r\n",
        "    'm0fo',\r\n",
        "    'm45terbate',\r\n",
        "    'ma5terb8',\r\n",
        "    'ma5terbate',\r\n",
        "    'masochist',\r\n",
        "    'master-bate',\r\n",
        "    'masterb8',\r\n",
        "    'masterbat*',\r\n",
        "    'masterbat3',\r\n",
        "    'masterbate',\r\n",
        "    'masterbation',\r\n",
        "    'masterbations',\r\n",
        "    'masturbate',\r\n",
        "    'mo-fo',\r\n",
        "    'mof0',\r\n",
        "    'mofo',\r\n",
        "    'mothafuck',\r\n",
        "    'mothafucka',\r\n",
        "    'mothafuckas',\r\n",
        "    'mothafuckaz',\r\n",
        "    'mothafucked',\r\n",
        "    'mothafucker',\r\n",
        "    'mothafuckers',\r\n",
        "    'mothafuckin',\r\n",
        "    'mothafucking',\r\n",
        "    'mothafuckings',\r\n",
        "    'mothafucks',\r\n",
        "    'mother',\r\n",
        "    'fucker',\r\n",
        "    'motherfuck',\r\n",
        "    'motherfucked',\r\n",
        "    'motherfucker',\r\n",
        "    'motherfuckers',\r\n",
        "    'motherfuckin',\r\n",
        "    'motherfucking',\r\n",
        "    'motherfuckings',\r\n",
        "    'motherfuckka',\r\n",
        "    'motherfucks',\r\n",
        "    'muff',\r\n",
        "    'mutha',\r\n",
        "    'muthafecker',\r\n",
        "    'muthafuckker',\r\n",
        "    'muther',\r\n",
        "    'mutherfucker',\r\n",
        "    'n1gga',\r\n",
        "    'n1gger',\r\n",
        "    'nazi',\r\n",
        "    'nigg3r',\r\n",
        "    'nigg4h',\r\n",
        "    'nigga',\r\n",
        "    'niggah',\r\n",
        "    'niggas',\r\n",
        "    'niggaz',\r\n",
        "    'nigger',\r\n",
        "    'niggers',\r\n",
        "    'nob',\r\n",
        "    'nob',\r\n",
        "    'jokey',\r\n",
        "    'nobhead',\r\n",
        "    'nobjocky',\r\n",
        "    'nobjokey',\r\n",
        "    'numbnuts',\r\n",
        "    'nutsack',\r\n",
        "    'orgasim',\r\n",
        "    'orgasims',\r\n",
        "    'orgasm',\r\n",
        "    'orgasms',\r\n",
        "    'p0rn',\r\n",
        "    'pawn',\r\n",
        "    'pecker',\r\n",
        "    'penis',\r\n",
        "    'penisfucker',\r\n",
        "    'phonesex',\r\n",
        "    'phuck',\r\n",
        "    'phuk',\r\n",
        "    'phuked',\r\n",
        "    'phuking',\r\n",
        "    'phukked',\r\n",
        "    'phukking',\r\n",
        "    'phuks',\r\n",
        "    'phuq',\r\n",
        "    'pigfucker',\r\n",
        "    'pimpis',\r\n",
        "    'piss',\r\n",
        "    'pissed',\r\n",
        "    'pisser',\r\n",
        "    'pissers',\r\n",
        "    'pisses',\r\n",
        "    'pissflaps',\r\n",
        "    'pissin',\r\n",
        "    'pissing',\r\n",
        "    'pissoff',\r\n",
        "    'poop',\r\n",
        "    'porn',\r\n",
        "    'porno',\r\n",
        "    'pornography',\r\n",
        "    'pornos',\r\n",
        "    'prick',\r\n",
        "    'pricks',\r\n",
        "    'pron',\r\n",
        "    'pube',\r\n",
        "    'pusse',\r\n",
        "    'pussi',\r\n",
        "    'pussies',\r\n",
        "    'pussy',\r\n",
        "    'pussys',\r\n",
        "    'rectum',\r\n",
        "    'retard',\r\n",
        "    'rimjaw',\r\n",
        "    'rimming',\r\n",
        "    'hit',\r\n",
        "    's.o.b.',\r\n",
        "    'sadist',\r\n",
        "    'schlong',\r\n",
        "    'screwing',\r\n",
        "    'scroat',\r\n",
        "    'scrote',\r\n",
        "    'scrotum',\r\n",
        "    'semen',\r\n",
        "    'sex',\r\n",
        "    'sh!+',\r\n",
        "    'sh!t',\r\n",
        "    'sh1t',\r\n",
        "    'shag',\r\n",
        "    'shagger',\r\n",
        "    'shaggin',\r\n",
        "    'shagging',\r\n",
        "    'shemale',\r\n",
        "    'shi+',\r\n",
        "    'shit',\r\n",
        "    'shitdick',\r\n",
        "    'shite',\r\n",
        "    'shited',\r\n",
        "    'shitey',\r\n",
        "    'shitfuck',\r\n",
        "    'shitfull',\r\n",
        "    'shithead',\r\n",
        "    'shiting',\r\n",
        "    'shitings',\r\n",
        "    'shits',\r\n",
        "    'shitted',\r\n",
        "    'shitter',\r\n",
        "    'shitters',\r\n",
        "    'shitting',\r\n",
        "    'shittings',\r\n",
        "    'shitty',\r\n",
        "    'skank',\r\n",
        "    'slut',\r\n",
        "    'sluts',\r\n",
        "    'smegma',\r\n",
        "    'smut',\r\n",
        "    'snatch',\r\n",
        "    'son-of-a-bitch',\r\n",
        "    'spac',\r\n",
        "    'spunk',\r\n",
        "    's_h_i_t',\r\n",
        "    't1tt1e5',\r\n",
        "    't1tties',\r\n",
        "    'teets',\r\n",
        "    'teez',\r\n",
        "    'testical',\r\n",
        "    'testicle',\r\n",
        "    'tit',\r\n",
        "    'titfuck',\r\n",
        "    'tits',\r\n",
        "    'titt',\r\n",
        "    'tittie5',\r\n",
        "    'tittiefucker',\r\n",
        "    'titties',\r\n",
        "    'tittyfuck',\r\n",
        "    'tittywank',\r\n",
        "    'titwank',\r\n",
        "    'tosser',\r\n",
        "    'turd',\r\n",
        "    'tw4t',\r\n",
        "    'twat',\r\n",
        "    'twathead',\r\n",
        "    'twatty',\r\n",
        "    'twunt',\r\n",
        "    'twunter',\r\n",
        "    'v14gra',\r\n",
        "    'v1gra',\r\n",
        "    'vagina',\r\n",
        "    'viagra',\r\n",
        "    'vulva',\r\n",
        "    'w00se',\r\n",
        "    'wang',\r\n",
        "    'wank',\r\n",
        "    'wanker',\r\n",
        "    'wanky',\r\n",
        "    'whoar',\r\n",
        "    'whore',\r\n",
        "    'willies',\r\n",
        "    'willy',\r\n",
        "    'xrated',\r\n",
        "    'xxx']\r\n",
        "\r\n",
        "    #para = \"there are no ill words in this, it just exists in the list and must not be read/spoken\"\r\n",
        "    return(bool([w for w in para.split(\" \") if w in swear]))"
      ],
      "execution_count": 39,
      "outputs": []
    },
    {
      "cell_type": "code",
      "metadata": {
        "id": "c2JHnUxVrYPx"
      },
      "source": [
        "def test_swear_word_filter_false():\r\n",
        "    para = \"there are no ill words in this, it just exists in the list and must not be read/spoken\"\r\n",
        "    assert swear_words_filter(para) == False, \"Did you say something???\" \r\n",
        "test_swear_word_filter_false()"
      ],
      "execution_count": 41,
      "outputs": []
    },
    {
      "cell_type": "code",
      "metadata": {
        "id": "LgihWMx3sqn3"
      },
      "source": [
        "def test_swear_word_filter_true():\r\n",
        "    para = \"there are no ill words in this, it just exists in the list and must not be read/spoken xxx\"\r\n",
        "    assert swear_words_filter(para) == True, \"Speak no evil\" \r\n",
        "test_swear_word_filter_true()"
      ],
      "execution_count": 42,
      "outputs": []
    },
    {
      "cell_type": "code",
      "metadata": {
        "id": "GtxbTCrU7EFW"
      },
      "source": [
        "#even = [2,4,3,3,7,6,8,0]\r\n",
        "#even = [0,0,0,1,2,2,33,33,1]\r\n",
        "def add_even(even):\r\n",
        "    '''\r\n",
        "    This function takes a list as input and returns the addition of all even numbers in the list\r\n",
        "    Input: list of all interger elements\r\n",
        "    Output: An integer returning addition of all even numbers in the list\r\n",
        "    '''\r\n",
        "    return reduce(lambda a,b:a+b if b%2==0 else a, even, 0)\r\n"
      ],
      "execution_count": 43,
      "outputs": []
    },
    {
      "cell_type": "code",
      "metadata": {
        "id": "oNDnH6NHtShu"
      },
      "source": [
        "def test_add_even():\r\n",
        "    even = [0,0,0,1,2,2,33,33,1]\r\n",
        "    assert add_even(even) == 2+2, \"Please add only the even numbers\"\r\n",
        "test_add_even()"
      ],
      "execution_count": 44,
      "outputs": []
    },
    {
      "cell_type": "code",
      "metadata": {
        "id": "VYVAYIX6GBS9"
      },
      "source": [
        "def find_big(big_char):\r\n",
        "    '''\r\n",
        "    This function takes a string as an input and gives the output character with the largest value\r\n",
        "    Input: string\r\n",
        "    Output: single largest character\r\n",
        "    '''\r\n",
        "    return reduce(lambda x,y: x if ord(x)>ord(y) else y,big_char )"
      ],
      "execution_count": 47,
      "outputs": []
    },
    {
      "cell_type": "code",
      "metadata": {
        "id": "OrCjiIt2ty3D"
      },
      "source": [
        "def test_find_big_1():\r\n",
        "    assert find_big('abcD') == 'c', \"That's not the biggest character in the string!!\"\r\n",
        "test_find_big_1()"
      ],
      "execution_count": 49,
      "outputs": []
    },
    {
      "cell_type": "code",
      "metadata": {
        "id": "yhiEOKF0u4z8"
      },
      "source": [
        "def test_find_big_2():\r\n",
        "    assert find_big('ZZZ') == 'Z', \"That's not the biggest character in the string!!\"\r\n",
        "test_find_big_2()"
      ],
      "execution_count": 50,
      "outputs": []
    },
    {
      "cell_type": "code",
      "metadata": {
        "id": "AiQGsuh0GBM6"
      },
      "source": [
        "#add_third = [1,2,3,4,5,6,4,2,1]\r\n",
        "def add_third_(l):\r\n",
        "    '''\r\n",
        "    This function returns addition of every third element\r\n",
        "    Input: list of integer values\r\n",
        "    Output: Integer number\r\n",
        "    '''\r\n",
        "    return reduce(lambda x,y: x+y, add_third[2::3])\r\n",
        "#add_third_(add_third)"
      ],
      "execution_count": 62,
      "outputs": []
    },
    {
      "cell_type": "code",
      "metadata": {
        "id": "qLVIVJPMvSrV"
      },
      "source": [
        "def test_add_third():\r\n",
        "    l = [1,2,3,4,5,6,4,2,1]\r\n",
        "    assert add_third_(l) == 10, \"Wrong addition\"\r\n",
        "test_add_third()"
      ],
      "execution_count": 63,
      "outputs": []
    },
    {
      "cell_type": "code",
      "metadata": {
        "id": "sauWvLBx3-cX"
      },
      "source": [
        "import random"
      ],
      "execution_count": 68,
      "outputs": []
    },
    {
      "cell_type": "code",
      "metadata": {
        "id": "bsssbxvjMoXK"
      },
      "source": [
        "def num_plate():\r\n",
        "    '''\r\n",
        "    This function returns 15 number plates with random numbers and characters\r\n",
        "    Input: -\r\n",
        "    Output: List of 15 number plates\r\n",
        "    '''\r\n",
        "    return([f'KA{random.randint(10,99)}{chr(random.randint(65,90))}{chr(random.randint(65,90))}{random.randint(1000,9999)}' for i in range(15)])"
      ],
      "execution_count": 69,
      "outputs": []
    },
    {
      "cell_type": "code",
      "metadata": {
        "id": "4qxBfmNq3H46"
      },
      "source": [
        "def test_num_plate():\r\n",
        "    assert len(num_plate()) == 15, \"15 number plates not found\"\r\n",
        "test_num_plate()"
      ],
      "execution_count": 70,
      "outputs": []
    },
    {
      "cell_type": "code",
      "metadata": {
        "colab": {
          "base_uri": "https://localhost:8080/"
        },
        "id": "lCyClN4dMoTp",
        "outputId": "ebb5dbc0-2efe-4c0b-d276-8296cf792875"
      },
      "source": [
        "def num_plate(first,last):\r\n",
        "    print(f'{first}88MT{last}')\r\n",
        "def fn(first):\r\n",
        "    return num_plate(first,8888)\r\n",
        "fn(\"DL\")"
      ],
      "execution_count": 57,
      "outputs": [
        {
          "output_type": "stream",
          "text": [
            "DL88MT8888\n"
          ],
          "name": "stdout"
        }
      ]
    },
    {
      "cell_type": "code",
      "metadata": {
        "colab": {
          "base_uri": "https://localhost:8080/",
          "height": 203
        },
        "id": "sNqB9JMSMoRL",
        "outputId": "779ee650-959f-4b2d-f8a1-303d0215cb73"
      },
      "source": [
        "def num_plate(state,first,last):\r\n",
        "    print(f'{str(state)}{str(random.randint(10,99))}{chr(random.randint(65,90))}{chr(random.randint(65,90))}{str(random.randint(first,last))}')\r\n",
        "h = partial(num_plate,3000,9999)\r\n",
        "h(\"KA\",6666)"
      ],
      "execution_count": 71,
      "outputs": [
        {
          "output_type": "error",
          "ename": "TypeError",
          "evalue": "ignored",
          "traceback": [
            "\u001b[0;31m---------------------------------------------------------------------------\u001b[0m",
            "\u001b[0;31mTypeError\u001b[0m                                 Traceback (most recent call last)",
            "\u001b[0;32m<ipython-input-71-e912e3bd9059>\u001b[0m in \u001b[0;36m<module>\u001b[0;34m()\u001b[0m\n\u001b[1;32m      2\u001b[0m     \u001b[0mprint\u001b[0m\u001b[0;34m(\u001b[0m\u001b[0;34mf'{str(state)}{str(random.randint(10,99))}{chr(random.randint(65,90))}{chr(random.randint(65,90))}{str(random.randint(first,last))}'\u001b[0m\u001b[0;34m)\u001b[0m\u001b[0;34m\u001b[0m\u001b[0;34m\u001b[0m\u001b[0m\n\u001b[1;32m      3\u001b[0m \u001b[0mh\u001b[0m \u001b[0;34m=\u001b[0m \u001b[0mpartial\u001b[0m\u001b[0;34m(\u001b[0m\u001b[0mnum_plate\u001b[0m\u001b[0;34m,\u001b[0m\u001b[0;36m3000\u001b[0m\u001b[0;34m,\u001b[0m\u001b[0;36m9999\u001b[0m\u001b[0;34m)\u001b[0m\u001b[0;34m\u001b[0m\u001b[0;34m\u001b[0m\u001b[0m\n\u001b[0;32m----> 4\u001b[0;31m \u001b[0mh\u001b[0m\u001b[0;34m(\u001b[0m\u001b[0;34m\"KA\"\u001b[0m\u001b[0;34m,\u001b[0m\u001b[0;36m6666\u001b[0m\u001b[0;34m)\u001b[0m\u001b[0;34m\u001b[0m\u001b[0;34m\u001b[0m\u001b[0m\n\u001b[0m",
            "\u001b[0;31mTypeError\u001b[0m: num_plate() takes 3 positional arguments but 4 were given"
          ]
        }
      ]
    },
    {
      "cell_type": "code",
      "metadata": {
        "id": "P_EI85Ar_Whf"
      },
      "source": [
        "import pytest"
      ],
      "execution_count": 74,
      "outputs": []
    },
    {
      "cell_type": "code",
      "metadata": {
        "id": "3syac2wyMoOY"
      },
      "source": [
        "def number_plates_(state, start = 1000, end = 9999):\r\n",
        "    '''\r\n",
        "    This fuction generates 15 random number plates, \r\n",
        "    with state abbreviation, digits and alphabets. \r\n",
        "    10<<DD<<99 & DDDD\r\n",
        "    '''\r\n",
        "    if(1000<=start<=9999 and 1000<=end<=9999 and start < end):\r\n",
        "            return ([ state + str(random.randint(10,99))+ chr(random.randint(65,90)) + chr(random.randint(65,90))+ str(random.randint(start,end)) for i in range(15)])\r\n",
        "        \r\n",
        "    else :\r\n",
        "        raise ValueError(\"Last Four digit start and Last Four digi end should be a four digit number and last_4_digit_start < last_4_digit_end \")\r\n",
        "\r\n",
        "\r\n",
        "# Partial function such that state can be changed but last 4 digits range is fixed\r\n",
        "partial_func = partial(number_plates_,start = 1999, end = 9999)"
      ],
      "execution_count": 84,
      "outputs": []
    },
    {
      "cell_type": "code",
      "metadata": {
        "id": "b_QexJyDMoMC"
      },
      "source": [
        "def test_number_plates_():\r\n",
        "    assert bool(number_plates_.__doc__),'No DocString for mynumberplate'\r\n",
        "test_number_plates_()"
      ],
      "execution_count": 88,
      "outputs": []
    },
    {
      "cell_type": "code",
      "metadata": {
        "id": "Nlx2Wz2uMoJS"
      },
      "source": [
        ""
      ],
      "execution_count": null,
      "outputs": []
    },
    {
      "cell_type": "code",
      "metadata": {
        "id": "NrelgsdkMoGm"
      },
      "source": [
        ""
      ],
      "execution_count": null,
      "outputs": []
    }
  ]
}